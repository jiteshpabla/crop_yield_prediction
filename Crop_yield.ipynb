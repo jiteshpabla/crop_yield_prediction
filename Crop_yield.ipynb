{
 "cells": [
  {
   "cell_type": "code",
   "execution_count": 1,
   "metadata": {},
   "outputs": [
    {
     "name": "stderr",
     "output_type": "stream",
     "text": [
      "/anaconda2/envs/pyy36/lib/python3.6/site-packages/h5py/__init__.py:36: FutureWarning: Conversion of the second argument of issubdtype from `float` to `np.floating` is deprecated. In future, it will be treated as `np.float64 == np.dtype(float).type`.\n",
      "  from ._conv import register_converters as _register_converters\n",
      "Using TensorFlow backend.\n"
     ]
    }
   ],
   "source": [
    "import pandas as pd\n",
    "import numpy as np\n",
    "import os\n",
    "import glob\n",
    "import matplotlib.pyplot as plt\n",
    "from sklearn.cluster import DBSCAN\n",
    "from sklearn.preprocessing import StandardScaler\n",
    "from keras.models import Sequential\n",
    "from keras.layers import Dense, Dropout\n",
    "from keras.wrappers.scikit_learn import KerasClassifier\n",
    "from keras.utils import np_utils\n",
    "from sklearn.model_selection import cross_val_score\n",
    "from sklearn.model_selection import KFold\n",
    "from sklearn.preprocessing import LabelEncoder\n",
    "from sklearn.pipeline import Pipeline\n",
    "from sklearn.ensemble import RandomForestClassifier\n",
    "from keras.optimizers import Optimizer\n",
    "from keras import optimizers"
   ]
  },
  {
   "cell_type": "code",
   "execution_count": 2,
   "metadata": {
    "collapsed": true
   },
   "outputs": [],
   "source": [
    "df_train = pd.read_csv(\"CropTrainFinal.csv\")\n",
    "df_test = pd.read_csv(\"CropTestFinal.csv\")\n",
    "df_train = df_train.drop(['Unnamed: 0'], axis=1)\n",
    "df_test = df_test.drop(['Unnamed: 0'], axis=1)"
   ]
  },
  {
   "cell_type": "code",
   "execution_count": 3,
   "metadata": {},
   "outputs": [
    {
     "data": {
      "text/html": [
       "<div>\n",
       "<style scoped>\n",
       "    .dataframe tbody tr th:only-of-type {\n",
       "        vertical-align: middle;\n",
       "    }\n",
       "\n",
       "    .dataframe tbody tr th {\n",
       "        vertical-align: top;\n",
       "    }\n",
       "\n",
       "    .dataframe thead th {\n",
       "        text-align: right;\n",
       "    }\n",
       "</style>\n",
       "<table border=\"1\" class=\"dataframe\">\n",
       "  <thead>\n",
       "    <tr style=\"text-align: right;\">\n",
       "      <th></th>\n",
       "      <th>Area</th>\n",
       "      <th>Production</th>\n",
       "      <th>Rainfall</th>\n",
       "      <th>Season</th>\n",
       "      <th>Temperature</th>\n",
       "      <th>Crop</th>\n",
       "    </tr>\n",
       "  </thead>\n",
       "  <tbody>\n",
       "    <tr>\n",
       "      <th>0</th>\n",
       "      <td>7800.0</td>\n",
       "      <td>3200.0</td>\n",
       "      <td>30.400333</td>\n",
       "      <td>Kharif</td>\n",
       "      <td>28.007000</td>\n",
       "      <td>Moong(Green Gram)</td>\n",
       "    </tr>\n",
       "    <tr>\n",
       "      <th>1</th>\n",
       "      <td>39922.0</td>\n",
       "      <td>75572.0</td>\n",
       "      <td>111.901000</td>\n",
       "      <td>Kharif</td>\n",
       "      <td>27.232333</td>\n",
       "      <td>Maize</td>\n",
       "    </tr>\n",
       "    <tr>\n",
       "      <th>2</th>\n",
       "      <td>44656.0</td>\n",
       "      <td>49099.0</td>\n",
       "      <td>3.396500</td>\n",
       "      <td>Rabi</td>\n",
       "      <td>20.277000</td>\n",
       "      <td>Wheat</td>\n",
       "    </tr>\n",
       "    <tr>\n",
       "      <th>3</th>\n",
       "      <td>6540.0</td>\n",
       "      <td>3945.0</td>\n",
       "      <td>30.932500</td>\n",
       "      <td>Rabi</td>\n",
       "      <td>24.241500</td>\n",
       "      <td>Wheat</td>\n",
       "    </tr>\n",
       "    <tr>\n",
       "      <th>4</th>\n",
       "      <td>2911.0</td>\n",
       "      <td>2062.0</td>\n",
       "      <td>189.208333</td>\n",
       "      <td>Kharif</td>\n",
       "      <td>27.456333</td>\n",
       "      <td>Maize</td>\n",
       "    </tr>\n",
       "    <tr>\n",
       "      <th>5</th>\n",
       "      <td>7.0</td>\n",
       "      <td>2.0</td>\n",
       "      <td>21.609750</td>\n",
       "      <td>Rabi</td>\n",
       "      <td>23.570000</td>\n",
       "      <td>Moong(Green Gram)</td>\n",
       "    </tr>\n",
       "    <tr>\n",
       "      <th>6</th>\n",
       "      <td>18.0</td>\n",
       "      <td>21.0</td>\n",
       "      <td>206.319750</td>\n",
       "      <td>Summer</td>\n",
       "      <td>28.760250</td>\n",
       "      <td>Groundnut</td>\n",
       "    </tr>\n",
       "    <tr>\n",
       "      <th>7</th>\n",
       "      <td>39157.0</td>\n",
       "      <td>1878596.0</td>\n",
       "      <td>186.938333</td>\n",
       "      <td>Kharif</td>\n",
       "      <td>27.940667</td>\n",
       "      <td>Sugarcane</td>\n",
       "    </tr>\n",
       "    <tr>\n",
       "      <th>8</th>\n",
       "      <td>10562.0</td>\n",
       "      <td>16812.0</td>\n",
       "      <td>81.593333</td>\n",
       "      <td>Kharif</td>\n",
       "      <td>26.181000</td>\n",
       "      <td>Jowar</td>\n",
       "    </tr>\n",
       "    <tr>\n",
       "      <th>9</th>\n",
       "      <td>179.0</td>\n",
       "      <td>2174.0</td>\n",
       "      <td>68.501750</td>\n",
       "      <td>Rabi</td>\n",
       "      <td>24.139750</td>\n",
       "      <td>Potato</td>\n",
       "    </tr>\n",
       "  </tbody>\n",
       "</table>\n",
       "</div>"
      ],
      "text/plain": [
       "      Area  Production    Rainfall  Season  Temperature               Crop\n",
       "0   7800.0      3200.0   30.400333  Kharif    28.007000  Moong(Green Gram)\n",
       "1  39922.0     75572.0  111.901000  Kharif    27.232333              Maize\n",
       "2  44656.0     49099.0    3.396500    Rabi    20.277000              Wheat\n",
       "3   6540.0      3945.0   30.932500    Rabi    24.241500              Wheat\n",
       "4   2911.0      2062.0  189.208333  Kharif    27.456333              Maize\n",
       "5      7.0         2.0   21.609750    Rabi    23.570000  Moong(Green Gram)\n",
       "6     18.0        21.0  206.319750  Summer    28.760250          Groundnut\n",
       "7  39157.0   1878596.0  186.938333  Kharif    27.940667          Sugarcane\n",
       "8  10562.0     16812.0   81.593333  Kharif    26.181000              Jowar\n",
       "9    179.0      2174.0   68.501750    Rabi    24.139750             Potato"
      ]
     },
     "execution_count": 3,
     "metadata": {},
     "output_type": "execute_result"
    }
   ],
   "source": [
    "df_train.head(10)"
   ]
  },
  {
   "cell_type": "code",
   "execution_count": 4,
   "metadata": {
    "collapsed": true
   },
   "outputs": [],
   "source": [
    "y_train = df_train['Production']\n",
    "y_test = df_test['Production']\n",
    "df_train = df_train.drop(['Production'], axis=1)\n",
    "df_test = df_test.drop(['Production'], axis=1)"
   ]
  },
  {
   "cell_type": "code",
   "execution_count": 5,
   "metadata": {},
   "outputs": [
    {
     "data": {
      "text/html": [
       "<div>\n",
       "<style scoped>\n",
       "    .dataframe tbody tr th:only-of-type {\n",
       "        vertical-align: middle;\n",
       "    }\n",
       "\n",
       "    .dataframe tbody tr th {\n",
       "        vertical-align: top;\n",
       "    }\n",
       "\n",
       "    .dataframe thead th {\n",
       "        text-align: right;\n",
       "    }\n",
       "</style>\n",
       "<table border=\"1\" class=\"dataframe\">\n",
       "  <thead>\n",
       "    <tr style=\"text-align: right;\">\n",
       "      <th></th>\n",
       "      <th>Area</th>\n",
       "      <th>Rainfall</th>\n",
       "      <th>Season</th>\n",
       "      <th>Temperature</th>\n",
       "      <th>Crop</th>\n",
       "    </tr>\n",
       "  </thead>\n",
       "  <tbody>\n",
       "    <tr>\n",
       "      <th>0</th>\n",
       "      <td>7800.0</td>\n",
       "      <td>30.400333</td>\n",
       "      <td>Kharif</td>\n",
       "      <td>28.007000</td>\n",
       "      <td>Moong(Green Gram)</td>\n",
       "    </tr>\n",
       "    <tr>\n",
       "      <th>1</th>\n",
       "      <td>39922.0</td>\n",
       "      <td>111.901000</td>\n",
       "      <td>Kharif</td>\n",
       "      <td>27.232333</td>\n",
       "      <td>Maize</td>\n",
       "    </tr>\n",
       "    <tr>\n",
       "      <th>2</th>\n",
       "      <td>44656.0</td>\n",
       "      <td>3.396500</td>\n",
       "      <td>Rabi</td>\n",
       "      <td>20.277000</td>\n",
       "      <td>Wheat</td>\n",
       "    </tr>\n",
       "    <tr>\n",
       "      <th>3</th>\n",
       "      <td>6540.0</td>\n",
       "      <td>30.932500</td>\n",
       "      <td>Rabi</td>\n",
       "      <td>24.241500</td>\n",
       "      <td>Wheat</td>\n",
       "    </tr>\n",
       "    <tr>\n",
       "      <th>4</th>\n",
       "      <td>2911.0</td>\n",
       "      <td>189.208333</td>\n",
       "      <td>Kharif</td>\n",
       "      <td>27.456333</td>\n",
       "      <td>Maize</td>\n",
       "    </tr>\n",
       "    <tr>\n",
       "      <th>5</th>\n",
       "      <td>7.0</td>\n",
       "      <td>21.609750</td>\n",
       "      <td>Rabi</td>\n",
       "      <td>23.570000</td>\n",
       "      <td>Moong(Green Gram)</td>\n",
       "    </tr>\n",
       "    <tr>\n",
       "      <th>6</th>\n",
       "      <td>18.0</td>\n",
       "      <td>206.319750</td>\n",
       "      <td>Summer</td>\n",
       "      <td>28.760250</td>\n",
       "      <td>Groundnut</td>\n",
       "    </tr>\n",
       "    <tr>\n",
       "      <th>7</th>\n",
       "      <td>39157.0</td>\n",
       "      <td>186.938333</td>\n",
       "      <td>Kharif</td>\n",
       "      <td>27.940667</td>\n",
       "      <td>Sugarcane</td>\n",
       "    </tr>\n",
       "    <tr>\n",
       "      <th>8</th>\n",
       "      <td>10562.0</td>\n",
       "      <td>81.593333</td>\n",
       "      <td>Kharif</td>\n",
       "      <td>26.181000</td>\n",
       "      <td>Jowar</td>\n",
       "    </tr>\n",
       "    <tr>\n",
       "      <th>9</th>\n",
       "      <td>179.0</td>\n",
       "      <td>68.501750</td>\n",
       "      <td>Rabi</td>\n",
       "      <td>24.139750</td>\n",
       "      <td>Potato</td>\n",
       "    </tr>\n",
       "  </tbody>\n",
       "</table>\n",
       "</div>"
      ],
      "text/plain": [
       "      Area    Rainfall  Season  Temperature               Crop\n",
       "0   7800.0   30.400333  Kharif    28.007000  Moong(Green Gram)\n",
       "1  39922.0  111.901000  Kharif    27.232333              Maize\n",
       "2  44656.0    3.396500    Rabi    20.277000              Wheat\n",
       "3   6540.0   30.932500    Rabi    24.241500              Wheat\n",
       "4   2911.0  189.208333  Kharif    27.456333              Maize\n",
       "5      7.0   21.609750    Rabi    23.570000  Moong(Green Gram)\n",
       "6     18.0  206.319750  Summer    28.760250          Groundnut\n",
       "7  39157.0  186.938333  Kharif    27.940667          Sugarcane\n",
       "8  10562.0   81.593333  Kharif    26.181000              Jowar\n",
       "9    179.0   68.501750    Rabi    24.139750             Potato"
      ]
     },
     "execution_count": 5,
     "metadata": {},
     "output_type": "execute_result"
    }
   ],
   "source": [
    "df_train.head(10)"
   ]
  },
  {
   "cell_type": "code",
   "execution_count": 6,
   "metadata": {
    "collapsed": true
   },
   "outputs": [],
   "source": [
    "cr = LabelEncoder()\n",
    "se = LabelEncoder()\n",
    "df_train['Season'] = se.fit_transform(df_train['Season'])\n",
    "df_train['Crop'] = cr.fit_transform(df_train['Crop'])\n",
    "df_test['Season'] = se.transform(df_test['Season'])\n",
    "df_test['Crop'] = cr.transform(df_test['Crop'])"
   ]
  },
  {
   "cell_type": "code",
   "execution_count": 7,
   "metadata": {
    "collapsed": true
   },
   "outputs": [],
   "source": [
    "x_train = df_train.values"
   ]
  },
  {
   "cell_type": "code",
   "execution_count": 8,
   "metadata": {
    "collapsed": true
   },
   "outputs": [],
   "source": [
    "x_test = df_test.values"
   ]
  },
  {
   "cell_type": "code",
   "execution_count": 9,
   "metadata": {
    "collapsed": true
   },
   "outputs": [],
   "source": [
    "from sklearn.ensemble import RandomForestRegressor\n",
    "clf = RandomForestRegressor()"
   ]
  },
  {
   "cell_type": "code",
   "execution_count": 10,
   "metadata": {},
   "outputs": [
    {
     "data": {
      "text/plain": [
       "RandomForestRegressor(bootstrap=True, criterion='mse', max_depth=None,\n",
       "           max_features='auto', max_leaf_nodes=None,\n",
       "           min_impurity_decrease=0.0, min_impurity_split=None,\n",
       "           min_samples_leaf=1, min_samples_split=2,\n",
       "           min_weight_fraction_leaf=0.0, n_estimators=10, n_jobs=1,\n",
       "           oob_score=False, random_state=None, verbose=0, warm_start=False)"
      ]
     },
     "execution_count": 10,
     "metadata": {},
     "output_type": "execute_result"
    }
   ],
   "source": [
    "clf.fit(x_train, y_train)"
   ]
  },
  {
   "cell_type": "code",
   "execution_count": 11,
   "metadata": {
    "collapsed": true
   },
   "outputs": [],
   "source": [
    "from sklearn.metrics import mean_absolute_error"
   ]
  },
  {
   "cell_type": "code",
   "execution_count": 12,
   "metadata": {
    "collapsed": true
   },
   "outputs": [],
   "source": [
    "y_pred = clf.predict(x_test)"
   ]
  },
  {
   "cell_type": "code",
   "execution_count": 13,
   "metadata": {},
   "outputs": [
    {
     "data": {
      "text/plain": [
       "21629.736639674164"
      ]
     },
     "execution_count": 13,
     "metadata": {},
     "output_type": "execute_result"
    }
   ],
   "source": [
    "maerandom = mean_absolute_error(y_test, y_pred)\n",
    "maerandom"
   ]
  },
  {
   "cell_type": "code",
   "execution_count": 14,
   "metadata": {},
   "outputs": [
    {
     "data": {
      "text/plain": [
       "((85225, 5), (85225,), (21307, 5), (21307,))"
      ]
     },
     "execution_count": 14,
     "metadata": {},
     "output_type": "execute_result"
    }
   ],
   "source": [
    "# applying neural network\n",
    "x_train.shape, y_train.shape, x_test.shape, y_test.shape"
   ]
  },
  {
   "cell_type": "code",
   "execution_count": 15,
   "metadata": {
    "collapsed": true
   },
   "outputs": [],
   "source": [
    "# scaling data:\n",
    "scaler = StandardScaler()\n",
    "x_trainscaled = scaler.fit_transform(x_train)\n",
    "x_testscaled = scaler.transform(x_test)"
   ]
  },
  {
   "cell_type": "code",
   "execution_count": 16,
   "metadata": {},
   "outputs": [
    {
     "data": {
      "text/plain": [
       "RandomForestRegressor(bootstrap=True, criterion='mse', max_depth=None,\n",
       "           max_features='auto', max_leaf_nodes=None,\n",
       "           min_impurity_decrease=0.0, min_impurity_split=None,\n",
       "           min_samples_leaf=1, min_samples_split=2,\n",
       "           min_weight_fraction_leaf=0.0, n_estimators=10, n_jobs=1,\n",
       "           oob_score=False, random_state=None, verbose=0, warm_start=False)"
      ]
     },
     "execution_count": 16,
     "metadata": {},
     "output_type": "execute_result"
    }
   ],
   "source": [
    "# randomForest on scaled data:\n",
    "clf1=RandomForestRegressor()\n",
    "clf1.fit(x_trainscaled,y_train)"
   ]
  },
  {
   "cell_type": "code",
   "execution_count": 17,
   "metadata": {
    "collapsed": true
   },
   "outputs": [],
   "source": [
    "ypredranscaled=clf1.predict(x_testscaled)"
   ]
  },
  {
   "cell_type": "code",
   "execution_count": 18,
   "metadata": {
    "collapsed": true
   },
   "outputs": [],
   "source": [
    "maerandomscaled = mean_absolute_error(ypredranscaled,y_test)"
   ]
  },
  {
   "cell_type": "code",
   "execution_count": 19,
   "metadata": {},
   "outputs": [
    {
     "data": {
      "text/plain": [
       "22056.62343991171"
      ]
     },
     "execution_count": 19,
     "metadata": {},
     "output_type": "execute_result"
    }
   ],
   "source": [
    "maerandomscaled"
   ]
  },
  {
   "cell_type": "code",
   "execution_count": 20,
   "metadata": {
    "collapsed": true
   },
   "outputs": [],
   "source": [
    "randommeanlist = [maerandom, maerandomscaled]\n",
    "namerandom = ['Non Scaled', 'Scaled']"
   ]
  },
  {
   "cell_type": "code",
   "execution_count": 21,
   "metadata": {},
   "outputs": [
    {
     "data": {
      "text/plain": [
       "Text(0,0.5,'Mean Absolute Error')"
      ]
     },
     "execution_count": 21,
     "metadata": {},
     "output_type": "execute_result"
    },
    {
     "data": {
      "image/png": "[encoded data removed]",
      "text/plain": [
       "<Figure size 432x288 with 1 Axes>"
      ]
     },
     "metadata": {},
     "output_type": "display_data"
    }
   ],
   "source": [
    "# Graph for RandomForest Nonscaled vs NonScaled data:\n",
    "plt.bar(namerandom,randommeanlist)\n",
    "plt.xlabel(\"Data\")\n",
    "plt.ylabel(\"Mean Absolute Error\")"
   ]
  },
  {
   "cell_type": "code",
   "execution_count": 22,
   "metadata": {
    "collapsed": true
   },
   "outputs": [],
   "source": [
    "# keras implementation."
   ]
  },
  {
   "cell_type": "code",
   "execution_count": 23,
   "metadata": {
    "collapsed": true
   },
   "outputs": [],
   "source": [
    "sgd = optimizers.SGD(lr=0.1, clipnorm = 1, nesterov = True)\n",
    "model = Sequential()\n",
    "model.add(Dense(256, input_dim = 5, activation='relu'))\n",
    "model.add(Dropout(0.2))\n",
    "model.add(Dense(128, activation='relu'))\n",
    "model.add(Dense(1, activation='relu'))\n",
    "model.compile(loss='mean_absolute_error', optimizer='nadam')"
   ]
  },
  {
   "cell_type": "code",
   "execution_count": 24,
   "metadata": {
    "scrolled": true
   },
   "outputs": [
    {
     "name": "stdout",
     "output_type": "stream",
     "text": [
      "Epoch 1/50\n",
      "85225/85225 [==============================] - 5s 56us/step - loss: 63332.2547\n",
      "Epoch 2/50\n",
      "85225/85225 [==============================] - 5s 61us/step - loss: 59158.8580\n",
      "Epoch 3/50\n",
      "85225/85225 [==============================] - 6s 65us/step - loss: 58769.6632\n",
      "Epoch 4/50\n",
      "85225/85225 [==============================] - 6s 68us/step - loss: 58471.3830\n",
      "Epoch 5/50\n",
      "85225/85225 [==============================] - 5s 60us/step - loss: 58237.4941\n",
      "Epoch 6/50\n",
      "85225/85225 [==============================] - 5s 60us/step - loss: 58018.7693\n",
      "Epoch 7/50\n",
      "85225/85225 [==============================] - 5s 59us/step - loss: 57805.6602\n",
      "Epoch 8/50\n",
      "85225/85225 [==============================] - 5s 56us/step - loss: 57550.1340\n",
      "Epoch 9/50\n",
      "85225/85225 [==============================] - 4s 51us/step - loss: 57246.0630\n",
      "Epoch 10/50\n",
      "85225/85225 [==============================] - 5s 55us/step - loss: 56901.1743\n",
      "Epoch 11/50\n",
      "85225/85225 [==============================] - 5s 59us/step - loss: 56473.5011\n",
      "Epoch 12/50\n",
      "85225/85225 [==============================] - 5s 62us/step - loss: 56053.6865\n",
      "Epoch 13/50\n",
      "85225/85225 [==============================] - 5s 64us/step - loss: 55640.3669\n",
      "Epoch 14/50\n",
      "85225/85225 [==============================] - 6s 70us/step - loss: 55304.2567\n",
      "Epoch 15/50\n",
      "85225/85225 [==============================] - 6s 72us/step - loss: 54952.8644\n",
      "Epoch 16/50\n",
      "85225/85225 [==============================] - 6s 68us/step - loss: 54562.2459\n",
      "Epoch 17/50\n",
      "85225/85225 [==============================] - 6s 75us/step - loss: 54184.6465\n",
      "Epoch 18/50\n",
      "85225/85225 [==============================] - 6s 66us/step - loss: 53841.2982\n",
      "Epoch 19/50\n",
      "85225/85225 [==============================] - 6s 65us/step - loss: 53521.1249\n",
      "Epoch 20/50\n",
      "85225/85225 [==============================] - 5s 62us/step - loss: 53182.1270\n",
      "Epoch 21/50\n",
      "85225/85225 [==============================] - 5s 59us/step - loss: 52919.5019\n",
      "Epoch 22/50\n",
      "85225/85225 [==============================] - 5s 60us/step - loss: 52645.7119\n",
      "Epoch 23/50\n",
      "85225/85225 [==============================] - 6s 72us/step - loss: 52437.8557\n",
      "Epoch 24/50\n",
      "85225/85225 [==============================] - 6s 74us/step - loss: 52170.8518\n",
      "Epoch 25/50\n",
      "85225/85225 [==============================] - 5s 62us/step - loss: 51948.1747\n",
      "Epoch 26/50\n",
      "85225/85225 [==============================] - 6s 65us/step - loss: 51695.6244\n",
      "Epoch 27/50\n",
      "85225/85225 [==============================] - 5s 61us/step - loss: 51540.5695\n",
      "Epoch 28/50\n",
      "85225/85225 [==============================] - 6s 74us/step - loss: 51293.9886\n",
      "Epoch 29/50\n",
      "85225/85225 [==============================] - 6s 66us/step - loss: 51052.7696\n",
      "Epoch 30/50\n",
      "85225/85225 [==============================] - 6s 70us/step - loss: 50900.4110\n",
      "Epoch 31/50\n",
      "85225/85225 [==============================] - 5s 64us/step - loss: 50765.2762\n",
      "Epoch 32/50\n",
      "85225/85225 [==============================] - 5s 61us/step - loss: 50561.3306\n",
      "Epoch 33/50\n",
      "85225/85225 [==============================] - 5s 60us/step - loss: 50472.1778\n",
      "Epoch 34/50\n",
      "85225/85225 [==============================] - 5s 57us/step - loss: 50325.6607\n",
      "Epoch 35/50\n",
      "85225/85225 [==============================] - 5s 63us/step - loss: 50230.6027\n",
      "Epoch 36/50\n",
      "85225/85225 [==============================] - 5s 58us/step - loss: 50019.1645\n",
      "Epoch 37/50\n",
      "85225/85225 [==============================] - 5s 59us/step - loss: 49909.3118\n",
      "Epoch 38/50\n",
      "85225/85225 [==============================] - 6s 66us/step - loss: 49797.8312\n",
      "Epoch 39/50\n",
      "85225/85225 [==============================] - 6s 68us/step - loss: 49686.8969\n",
      "Epoch 40/50\n",
      "85225/85225 [==============================] - 6s 67us/step - loss: 49691.2025\n",
      "Epoch 41/50\n",
      "85225/85225 [==============================] - 6s 70us/step - loss: 49489.0586\n",
      "Epoch 42/50\n",
      "85225/85225 [==============================] - 6s 69us/step - loss: 49425.2558\n",
      "Epoch 43/50\n",
      "85225/85225 [==============================] - 6s 71us/step - loss: 49418.4202\n",
      "Epoch 44/50\n",
      "85225/85225 [==============================] - 5s 61us/step - loss: 49300.3979\n",
      "Epoch 45/50\n",
      "85225/85225 [==============================] - 5s 62us/step - loss: 49256.1945\n",
      "Epoch 46/50\n",
      "85225/85225 [==============================] - 6s 68us/step - loss: 49149.1078\n",
      "Epoch 47/50\n",
      "85225/85225 [==============================] - 6s 65us/step - loss: 49070.1614\n",
      "Epoch 48/50\n",
      "85225/85225 [==============================] - 5s 64us/step - loss: 49098.8690\n",
      "Epoch 49/50\n",
      "85225/85225 [==============================] - 6s 70us/step - loss: 48987.9545\n",
      "Epoch 50/50\n",
      "85225/85225 [==============================] - 6s 71us/step - loss: 48956.6170\n"
     ]
    },
    {
     "data": {
      "text/plain": [
       "<keras.callbacks.History at 0x105a912e8>"
      ]
     },
     "execution_count": 24,
     "metadata": {},
     "output_type": "execute_result"
    }
   ],
   "source": [
    "model.fit(x_trainscaled, y_train, epochs=50, batch_size=50)"
   ]
  },
  {
   "cell_type": "code",
   "execution_count": 25,
   "metadata": {
    "collapsed": true
   },
   "outputs": [],
   "source": [
    "ypredkeras = model.predict(x_testscaled)\n",
    "maekeras_scaled=mean_absolute_error(y_test, ypredkeras)"
   ]
  },
  {
   "cell_type": "code",
   "execution_count": 26,
   "metadata": {
    "collapsed": true
   },
   "outputs": [],
   "source": [
    "# best mean_abs_error by using nadam as optimizer and scaled data. (51K)\n",
    "# ypredkeras = model.predict(x_testscaled)\n",
    "# mean_absolute_error(y_test, ypredkeras)"
   ]
  },
  {
   "cell_type": "code",
   "execution_count": 27,
   "metadata": {
    "collapsed": true
   },
   "outputs": [],
   "source": [
    "sgd = optimizers.SGD(lr=0.1, clipnorm = 1, nesterov = True)\n",
    "model1 = Sequential()\n",
    "model1.add(Dense(256, input_dim = 5, activation='relu'))\n",
    "model1.add(Dropout(0.2))\n",
    "model1.add(Dense(128, activation='relu'))\n",
    "model1.add(Dense(1, activation='relu'))\n",
    "model1.compile(loss='mean_absolute_error', optimizer='nadam')"
   ]
  },
  {
   "cell_type": "code",
   "execution_count": 28,
   "metadata": {
    "scrolled": true
   },
   "outputs": [
    {
     "name": "stdout",
     "output_type": "stream",
     "text": [
      "Epoch 1/50\n",
      "85225/85225 [==============================] - 6s 71us/step - loss: 61357.2297\n",
      "Epoch 2/50\n",
      "85225/85225 [==============================] - 6s 73us/step - loss: 61147.7451\n",
      "Epoch 3/50\n",
      "85225/85225 [==============================] - 7s 78us/step - loss: 61051.4382\n",
      "Epoch 4/50\n",
      "85225/85225 [==============================] - 6s 76us/step - loss: 61018.1301\n",
      "Epoch 5/50\n",
      "85225/85225 [==============================] - 6s 71us/step - loss: 60956.8487\n",
      "Epoch 6/50\n",
      "85225/85225 [==============================] - 5s 60us/step - loss: 60943.2368\n",
      "Epoch 7/50\n",
      "85225/85225 [==============================] - 5s 55us/step - loss: 60884.4560\n",
      "Epoch 8/50\n",
      "85225/85225 [==============================] - 5s 56us/step - loss: 60879.3811\n",
      "Epoch 9/50\n",
      "85225/85225 [==============================] - 5s 56us/step - loss: 60833.1357\n",
      "Epoch 10/50\n",
      "85225/85225 [==============================] - 5s 55us/step - loss: 60836.2863\n",
      "Epoch 11/50\n",
      "85225/85225 [==============================] - 4s 51us/step - loss: 60746.9602\n",
      "Epoch 12/50\n",
      "85225/85225 [==============================] - 5s 56us/step - loss: 60774.3950\n",
      "Epoch 13/50\n",
      "85225/85225 [==============================] - 5s 59us/step - loss: 60703.8105\n",
      "Epoch 14/50\n",
      "85225/85225 [==============================] - 6s 65us/step - loss: 60692.3309\n",
      "Epoch 15/50\n",
      "85225/85225 [==============================] - 5s 58us/step - loss: 60712.2635\n",
      "Epoch 16/50\n",
      "85225/85225 [==============================] - 5s 64us/step - loss: 60666.0719\n",
      "Epoch 17/50\n",
      "85225/85225 [==============================] - 4s 52us/step - loss: 60725.6931\n",
      "Epoch 18/50\n",
      "85225/85225 [==============================] - 4s 53us/step - loss: 60643.0360\n",
      "Epoch 19/50\n",
      "85225/85225 [==============================] - 4s 52us/step - loss: 60581.1696\n",
      "Epoch 20/50\n",
      "85225/85225 [==============================] - 4s 51us/step - loss: 60590.0754\n",
      "Epoch 21/50\n",
      "85225/85225 [==============================] - 5s 55us/step - loss: 60489.0179\n",
      "Epoch 22/50\n",
      "85225/85225 [==============================] - 5s 57us/step - loss: 60582.5928\n",
      "Epoch 23/50\n",
      "85225/85225 [==============================] - 5s 56us/step - loss: 60481.1715\n",
      "Epoch 24/50\n",
      "85225/85225 [==============================] - 4s 50us/step - loss: 60513.2212\n",
      "Epoch 25/50\n",
      "85225/85225 [==============================] - 4s 51us/step - loss: 60463.6999\n",
      "Epoch 26/50\n",
      "85225/85225 [==============================] - 4s 50us/step - loss: 60518.0800\n",
      "Epoch 27/50\n",
      "85225/85225 [==============================] - 4s 49us/step - loss: 60471.9046\n",
      "Epoch 28/50\n",
      "85225/85225 [==============================] - 4s 50us/step - loss: 60317.1541\n",
      "Epoch 29/50\n",
      "85225/85225 [==============================] - 4s 49us/step - loss: 60342.6463\n",
      "Epoch 30/50\n",
      "85225/85225 [==============================] - 4s 51us/step - loss: 60252.6745\n",
      "Epoch 31/50\n",
      "85225/85225 [==============================] - 4s 49us/step - loss: 60356.7808\n",
      "Epoch 32/50\n",
      "85225/85225 [==============================] - 4s 50us/step - loss: 60388.2790\n",
      "Epoch 33/50\n",
      "85225/85225 [==============================] - 4s 50us/step - loss: 60373.7430\n",
      "Epoch 34/50\n",
      "85225/85225 [==============================] - 4s 49us/step - loss: 60183.1000\n",
      "Epoch 35/50\n",
      "85225/85225 [==============================] - 4s 50us/step - loss: 60207.9301\n",
      "Epoch 36/50\n",
      "85225/85225 [==============================] - 4s 50us/step - loss: 60266.6468\n",
      "Epoch 37/50\n",
      "85225/85225 [==============================] - 4s 53us/step - loss: 60164.1150\n",
      "Epoch 38/50\n",
      "85225/85225 [==============================] - 4s 48us/step - loss: 60183.4576\n",
      "Epoch 39/50\n",
      "85225/85225 [==============================] - 4s 49us/step - loss: 60128.3242\n",
      "Epoch 40/50\n",
      "85225/85225 [==============================] - 4s 49us/step - loss: 59946.2382\n",
      "Epoch 41/50\n",
      "85225/85225 [==============================] - 4s 52us/step - loss: 59938.5378\n",
      "Epoch 42/50\n",
      "85225/85225 [==============================] - 4s 52us/step - loss: 60001.3003\n",
      "Epoch 43/50\n",
      "85225/85225 [==============================] - 4s 49us/step - loss: 60023.6527\n",
      "Epoch 44/50\n",
      "85225/85225 [==============================] - 4s 50us/step - loss: 60149.3234\n",
      "Epoch 45/50\n",
      "85225/85225 [==============================] - 4s 51us/step - loss: 59994.0349\n",
      "Epoch 46/50\n",
      "85225/85225 [==============================] - 4s 50us/step - loss: 59991.9992\n",
      "Epoch 47/50\n",
      "85225/85225 [==============================] - 4s 50us/step - loss: 59908.5244\n",
      "Epoch 48/50\n",
      "85225/85225 [==============================] - 4s 50us/step - loss: 59936.2662\n",
      "Epoch 49/50\n",
      "85225/85225 [==============================] - 4s 49us/step - loss: 59842.0603\n",
      "Epoch 50/50\n",
      "85225/85225 [==============================] - 4s 50us/step - loss: 59994.7442\n"
     ]
    },
    {
     "data": {
      "text/plain": [
       "<keras.callbacks.History at 0x10f944550>"
      ]
     },
     "execution_count": 28,
     "metadata": {},
     "output_type": "execute_result"
    }
   ],
   "source": [
    "model1.fit(x_train, y_train, epochs=50, batch_size=50)"
   ]
  },
  {
   "cell_type": "code",
   "execution_count": 29,
   "metadata": {
    "collapsed": true
   },
   "outputs": [],
   "source": [
    "ypredkeras1 = model1.predict(x_test)\n",
    "maekeras=mean_absolute_error(y_test, ypredkeras1)"
   ]
  },
  {
   "cell_type": "code",
   "execution_count": 30,
   "metadata": {
    "collapsed": true
   },
   "outputs": [],
   "source": [
    "kerasmeanlist = [maekeras, maekeras_scaled]\n",
    "namerandom = ['Non Scaled', 'Scaled']"
   ]
  },
  {
   "cell_type": "code",
   "execution_count": 31,
   "metadata": {},
   "outputs": [
    {
     "data": {
      "text/plain": [
       "Text(0,0.5,'Mean Absolute Error')"
      ]
     },
     "execution_count": 31,
     "metadata": {},
     "output_type": "execute_result"
    },
    {
     "data": {
      "image/png": "[encoded data removed]",
      "text/plain": [
       "<Figure size 432x288 with 1 Axes>"
      ]
     },
     "metadata": {},
     "output_type": "display_data"
    }
   ],
   "source": [
    "plt.bar(namerandom,kerasmeanlist)\n",
    "plt.xlabel(\"Data\")\n",
    "plt.ylabel(\"Mean Absolute Error\")"
   ]
  },
  {
   "cell_type": "code",
   "execution_count": null,
   "metadata": {
    "collapsed": true
   },
   "outputs": [],
   "source": []
  },
  {
   "cell_type": "code",
   "execution_count": null,
   "metadata": {
    "collapsed": true
   },
   "outputs": [],
   "source": []
  },
  {
   "cell_type": "code",
   "execution_count": null,
   "metadata": {
    "collapsed": true
   },
   "outputs": [],
   "source": []
  },
  {
   "cell_type": "code",
   "execution_count": 32,
   "metadata": {},
   "outputs": [
    {
     "name": "stderr",
     "output_type": "stream",
     "text": [
      "/anaconda2/envs/pyy36/lib/python3.6/site-packages/sklearn/cross_validation.py:41: DeprecationWarning: This module was deprecated in version 0.18 in favor of the model_selection module into which all the refactored classes and functions are moved. Also note that the interface of the new CV iterators are different from that of this module. This module will be removed in 0.20.\n",
      "  \"This module will be removed in 0.20.\", DeprecationWarning)\n",
      "/anaconda2/envs/pyy36/lib/python3.6/site-packages/sklearn/grid_search.py:42: DeprecationWarning: This module was deprecated in version 0.18 in favor of the model_selection module into which all the refactored classes and functions are moved. This module will be removed in 0.20.\n",
      "  DeprecationWarning)\n"
     ]
    },
    {
     "data": {
      "text/plain": [
       "GridSearchCV(cv=3, error_score='raise',\n",
       "       estimator=RandomForestRegressor(bootstrap=True, criterion='mse', max_depth=None,\n",
       "           max_features='auto', max_leaf_nodes=None,\n",
       "           min_impurity_decrease=0.0, min_impurity_split=None,\n",
       "           min_samples_leaf=1, min_samples_split=2,\n",
       "           min_weight_fraction_leaf=0.0, n_estimators=10, n_jobs=1,\n",
       "           oob_score=False, random_state=None, verbose=0, warm_start=False),\n",
       "       fit_params={}, iid=True, n_jobs=1,\n",
       "       param_grid={'n_estimators': [20, 50, 100]}, pre_dispatch='2*n_jobs',\n",
       "       refit=True, scoring=None, verbose=0)"
      ]
     },
     "execution_count": 32,
     "metadata": {},
     "output_type": "execute_result"
    }
   ],
   "source": [
    "# Using GridSearch to optimise randomforest:\n",
    "from sklearn.grid_search import GridSearchCV\n",
    "rfc = RandomForestRegressor()\n",
    "para_grid = {\n",
    "    'n_estimators' : [20, 50, 100], \n",
    "}\n",
    "cv_rfc = GridSearchCV(estimator = rfc, param_grid = para_grid, cv = 3)\n",
    "cv_rfc.fit(x_trainscaled, y_train)"
   ]
  },
  {
   "cell_type": "code",
   "execution_count": 33,
   "metadata": {
    "collapsed": true
   },
   "outputs": [],
   "source": [
    "yp1=cv_rfc.predict(x_testscaled)"
   ]
  },
  {
   "cell_type": "code",
   "execution_count": 34,
   "metadata": {
    "collapsed": true
   },
   "outputs": [],
   "source": [
    "mae1=mean_absolute_error(yp1,y_test)"
   ]
  },
  {
   "cell_type": "code",
   "execution_count": 35,
   "metadata": {},
   "outputs": [
    {
     "data": {
      "text/plain": [
       "20875.30337799901"
      ]
     },
     "execution_count": 35,
     "metadata": {},
     "output_type": "execute_result"
    }
   ],
   "source": [
    "mae1"
   ]
  },
  {
   "cell_type": "code",
   "execution_count": null,
   "metadata": {
    "collapsed": true
   },
   "outputs": [],
   "source": []
  },
  {
   "cell_type": "code",
   "execution_count": null,
   "metadata": {
    "collapsed": true
   },
   "outputs": [],
   "source": []
  },
  {
   "cell_type": "code",
   "execution_count": null,
   "metadata": {
    "collapsed": true
   },
   "outputs": [],
   "source": []
  },
  {
   "cell_type": "code",
   "execution_count": 36,
   "metadata": {
    "collapsed": true
   },
   "outputs": [],
   "source": [
    "from sklearn.linear_model import LinearRegression\n",
    "clf_linear = LinearRegression()\n",
    "clf_linear.fit(x_train, y_train)\n",
    "ypredlinear = clf_linear.predict(x_test)\n",
    "maelinear=mean_absolute_error(y_test, ypredlinear)\n",
    "# on scaled data:\n",
    "clf_linearscaled = LinearRegression()\n",
    "clf_linearscaled.fit(x_trainscaled, y_train)\n",
    "ypredlinearscaled = clf_linearscaled.predict(x_testscaled)\n",
    "maelinearscaled=mean_absolute_error(y_test, ypredlinearscaled)"
   ]
  },
  {
   "cell_type": "code",
   "execution_count": 37,
   "metadata": {
    "collapsed": true
   },
   "outputs": [],
   "source": [
    "linearmeanlist = [maelinear, maelinearscaled]\n",
    "namerandom = ['Non Scaled', 'Scaled']"
   ]
  },
  {
   "cell_type": "code",
   "execution_count": 38,
   "metadata": {},
   "outputs": [
    {
     "data": {
      "text/plain": [
       "Text(0,0.5,'Mean Absolute Error')"
      ]
     },
     "execution_count": 38,
     "metadata": {},
     "output_type": "execute_result"
    },
    {
     "data": {
      "image/png": "[encoded data removed]",
      "text/plain": [
       "<Figure size 432x288 with 1 Axes>"
      ]
     },
     "metadata": {},
     "output_type": "display_data"
    }
   ],
   "source": [
    "plt.bar(namerandom,linearmeanlist)\n",
    "plt.xlabel(\"Data\")\n",
    "plt.ylabel(\"Mean Absolute Error\")"
   ]
  },
  {
   "cell_type": "code",
   "execution_count": null,
   "metadata": {
    "collapsed": true
   },
   "outputs": [],
   "source": []
  },
  {
   "cell_type": "code",
   "execution_count": null,
   "metadata": {
    "collapsed": true
   },
   "outputs": [],
   "source": []
  },
  {
   "cell_type": "code",
   "execution_count": null,
   "metadata": {
    "collapsed": true
   },
   "outputs": [],
   "source": []
  },
  {
   "cell_type": "code",
   "execution_count": 39,
   "metadata": {
    "collapsed": true
   },
   "outputs": [],
   "source": [
    "#KNN neighbor\n",
    "from sklearn.neighbors import KNeighborsRegressor\n",
    "clfKNN = KNeighborsRegressor(n_neighbors = 3, algorithm = 'ball_tree')\n",
    "clfKNN.fit(x_train, y_train)\n",
    "ypredknn = clfKNN.predict(x_test)\n",
    "knnmae=mean_absolute_error(y_test, ypredknn)\n"
   ]
  },
  {
   "cell_type": "code",
   "execution_count": 40,
   "metadata": {
    "collapsed": true
   },
   "outputs": [],
   "source": [
    "clfKNN1 = KNeighborsRegressor(n_neighbors = 3, algorithm = 'ball_tree')\n",
    "clfKNN1.fit(x_trainscaled, y_train)\n",
    "ypredknnscaled = clfKNN1.predict(x_testscaled)\n",
    "knnmaescaled=mean_absolute_error(y_test, ypredknnscaled)"
   ]
  },
  {
   "cell_type": "code",
   "execution_count": 41,
   "metadata": {
    "collapsed": true
   },
   "outputs": [],
   "source": [
    "knnmeanlist = [knnmae, knnmaescaled]\n",
    "namerandom = ['Non Scaled', 'Scaled']"
   ]
  },
  {
   "cell_type": "code",
   "execution_count": 42,
   "metadata": {},
   "outputs": [
    {
     "data": {
      "text/plain": [
       "Text(0,0.5,'Mean Absolute Error')"
      ]
     },
     "execution_count": 42,
     "metadata": {},
     "output_type": "execute_result"
    },
    {
     "data": {
      "image/png": "[encoded data removed]",
      "text/plain": [
       "<Figure size 432x288 with 1 Axes>"
      ]
     },
     "metadata": {},
     "output_type": "display_data"
    }
   ],
   "source": [
    "plt.bar(namerandom,knnmeanlist)\n",
    "plt.xlabel(\"Data\")\n",
    "plt.ylabel(\"Mean Absolute Error\")"
   ]
  },
  {
   "cell_type": "code",
   "execution_count": null,
   "metadata": {
    "collapsed": true
   },
   "outputs": [],
   "source": []
  },
  {
   "cell_type": "code",
   "execution_count": 43,
   "metadata": {
    "scrolled": false
   },
   "outputs": [
    {
     "name": "stdout",
     "output_type": "stream",
     "text": [
      "26661.50120225039\n",
      "25533.936517413007\n",
      "27422.734093380383\n",
      "30067.60935208777\n",
      "32293.24176143029\n",
      "33817.187822733234\n",
      "35349.788221545816\n",
      "37089.143757712\n",
      "37987.403234840895\n",
      "38904.774003664956\n",
      "39958.799063448896\n",
      "40780.45054344655\n",
      "41517.235142838486\n",
      "42296.35020972603\n",
      "42867.18166403326\n",
      "43543.10131928543\n",
      "44242.93627654956\n",
      "44639.053734060195\n",
      "45134.95610996703\n",
      "45777.03399574648\n",
      "46066.34673301473\n",
      "46492.313421348124\n",
      "46942.34549694481\n",
      "47311.215121701134\n",
      "47584.427475834316\n"
     ]
    }
   ],
   "source": [
    "# testing on diff neighbors:\n",
    "x_ax = []\n",
    "y_ax = []\n",
    "for i in range(1, 50, 2):\n",
    "    clfk = KNeighborsRegressor(n_neighbors = i, algorithm='ball_tree')\n",
    "    clfk.fit(x_trainscaled, y_train)\n",
    "    ypredk = clfk.predict(x_testscaled)\n",
    "    mae = mean_absolute_error(y_test, ypredk)\n",
    "    print(mae)\n",
    "    x_ax.append(i)\n",
    "    y_ax.append(mae)"
   ]
  },
  {
   "cell_type": "code",
   "execution_count": 44,
   "metadata": {},
   "outputs": [
    {
     "data": {
      "text/plain": [
       "Text(0,0.5,'Mean Absolute Error')"
      ]
     },
     "execution_count": 44,
     "metadata": {},
     "output_type": "execute_result"
    },
    {
     "data": {
      "image/png": "[encoded data removed]",
      "text/plain": [
       "<Figure size 432x288 with 1 Axes>"
      ]
     },
     "metadata": {},
     "output_type": "display_data"
    }
   ],
   "source": [
    "plt.plot(x_ax,y_ax)\n",
    "plt.xlabel('No Of Neighbors')\n",
    "plt.ylabel('Mean Absolute Error')"
   ]
  },
  {
   "cell_type": "code",
   "execution_count": 45,
   "metadata": {
    "collapsed": true
   },
   "outputs": [],
   "source": [
    "from sklearn.linear_model import SGDRegressor"
   ]
  },
  {
   "cell_type": "code",
   "execution_count": 46,
   "metadata": {
    "collapsed": true
   },
   "outputs": [],
   "source": [
    "clfsgd1=SGDRegressor()"
   ]
  },
  {
   "cell_type": "code",
   "execution_count": 47,
   "metadata": {},
   "outputs": [
    {
     "name": "stderr",
     "output_type": "stream",
     "text": [
      "/anaconda2/envs/pyy36/lib/python3.6/site-packages/sklearn/linear_model/stochastic_gradient.py:128: FutureWarning: max_iter and tol parameters have been added in <class 'sklearn.linear_model.stochastic_gradient.SGDRegressor'> in 0.19. If both are left unset, they default to max_iter=5 and tol=None. If tol is not None, max_iter defaults to max_iter=1000. From 0.21, default max_iter will be 1000, and default tol will be 1e-3.\n",
      "  \"and default tol will be 1e-3.\" % type(self), FutureWarning)\n"
     ]
    },
    {
     "data": {
      "text/plain": [
       "SGDRegressor(alpha=0.0001, average=False, epsilon=0.1, eta0=0.01,\n",
       "       fit_intercept=True, l1_ratio=0.15, learning_rate='invscaling',\n",
       "       loss='squared_loss', max_iter=None, n_iter=None, penalty='l2',\n",
       "       power_t=0.25, random_state=None, shuffle=True, tol=None, verbose=0,\n",
       "       warm_start=False)"
      ]
     },
     "execution_count": 47,
     "metadata": {},
     "output_type": "execute_result"
    }
   ],
   "source": [
    "clfsgd1.fit(x_trainscaled,y_train)"
   ]
  },
  {
   "cell_type": "code",
   "execution_count": 48,
   "metadata": {
    "collapsed": true
   },
   "outputs": [],
   "source": [
    "ypredsgdscaled=clfsgd1.predict(x_testscaled)"
   ]
  },
  {
   "cell_type": "code",
   "execution_count": 49,
   "metadata": {
    "collapsed": true
   },
   "outputs": [],
   "source": [
    "maesgdscaled=mean_absolute_error(ypredsgdscaled,y_test)"
   ]
  },
  {
   "cell_type": "code",
   "execution_count": 50,
   "metadata": {
    "collapsed": true
   },
   "outputs": [],
   "source": [
    "clfsgd2=SGDRegressor()"
   ]
  },
  {
   "cell_type": "code",
   "execution_count": 51,
   "metadata": {},
   "outputs": [
    {
     "name": "stderr",
     "output_type": "stream",
     "text": [
      "/anaconda2/envs/pyy36/lib/python3.6/site-packages/sklearn/linear_model/stochastic_gradient.py:128: FutureWarning: max_iter and tol parameters have been added in <class 'sklearn.linear_model.stochastic_gradient.SGDRegressor'> in 0.19. If both are left unset, they default to max_iter=5 and tol=None. If tol is not None, max_iter defaults to max_iter=1000. From 0.21, default max_iter will be 1000, and default tol will be 1e-3.\n",
      "  \"and default tol will be 1e-3.\" % type(self), FutureWarning)\n"
     ]
    },
    {
     "data": {
      "text/plain": [
       "SGDRegressor(alpha=0.0001, average=False, epsilon=0.1, eta0=0.01,\n",
       "       fit_intercept=True, l1_ratio=0.15, learning_rate='invscaling',\n",
       "       loss='squared_loss', max_iter=None, n_iter=None, penalty='l2',\n",
       "       power_t=0.25, random_state=None, shuffle=True, tol=None, verbose=0,\n",
       "       warm_start=False)"
      ]
     },
     "execution_count": 51,
     "metadata": {},
     "output_type": "execute_result"
    }
   ],
   "source": [
    "clfsgd2.fit(x_train,y_train)"
   ]
  },
  {
   "cell_type": "code",
   "execution_count": 52,
   "metadata": {
    "collapsed": true
   },
   "outputs": [],
   "source": [
    "ypredsgd=clfsgd2.predict(x_test)"
   ]
  },
  {
   "cell_type": "code",
   "execution_count": 53,
   "metadata": {
    "collapsed": true
   },
   "outputs": [],
   "source": [
    "maesgd=mean_absolute_error(ypredsgd,y_test)"
   ]
  },
  {
   "cell_type": "code",
   "execution_count": 54,
   "metadata": {
    "collapsed": true
   },
   "outputs": [],
   "source": [
    "sgdmeanlist = [maesgd, maesgdscaled]\n",
    "namerandom = ['Non Scaled', 'Scaled']"
   ]
  },
  {
   "cell_type": "code",
   "execution_count": 55,
   "metadata": {},
   "outputs": [
    {
     "data": {
      "text/plain": [
       "Text(0,0.5,'Mean Absolute Error')"
      ]
     },
     "execution_count": 55,
     "metadata": {},
     "output_type": "execute_result"
    },
    {
     "data": {
      "image/png": "[encoded data removed]",
      "text/plain": [
       "<Figure size 432x288 with 1 Axes>"
      ]
     },
     "metadata": {},
     "output_type": "display_data"
    }
   ],
   "source": [
    "plt.bar(namerandom,sgdmeanlist)\n",
    "plt.xlabel(\"Data\")\n",
    "plt.ylabel(\"Mean Absolute Error\")"
   ]
  },
  {
   "cell_type": "code",
   "execution_count": 56,
   "metadata": {},
   "outputs": [
    {
     "data": {
      "text/plain": [
       "(9.48103484985441e+16, 100092.86591875159)"
      ]
     },
     "execution_count": 56,
     "metadata": {},
     "output_type": "execute_result"
    }
   ],
   "source": [
    "maesgd,maesgdscaled"
   ]
  },
  {
   "cell_type": "code",
   "execution_count": 57,
   "metadata": {
    "collapsed": true
   },
   "outputs": [],
   "source": [
    "meanlist = [maelinear, maekeras,maerandom,knnmae,]\n",
    "name = ['Linear Regression', 'Keras','Random Forest','KNN']"
   ]
  },
  {
   "cell_type": "code",
   "execution_count": null,
   "metadata": {
    "collapsed": true
   },
   "outputs": [],
   "source": []
  },
  {
   "cell_type": "code",
   "execution_count": 58,
   "metadata": {},
   "outputs": [
    {
     "data": {
      "text/plain": [
       "Text(0,0.5,'Mean Absolute Error')"
      ]
     },
     "execution_count": 58,
     "metadata": {},
     "output_type": "execute_result"
    },
    {
     "data": {
      "image/png": "[encoded data removed]",
      "text/plain": [
       "<Figure size 432x288 with 1 Axes>"
      ]
     },
     "metadata": {},
     "output_type": "display_data"
    }
   ],
   "source": [
    "plt.bar(name,meanlist)\n",
    "plt.xlabel(\"Data\")\n",
    "plt.ylabel(\"Mean Absolute Error\")"
   ]
  },
  {
   "cell_type": "code",
   "execution_count": 59,
   "metadata": {
    "collapsed": true
   },
   "outputs": [],
   "source": [
    "meanlistscaled = [maelinearscaled, maekeras_scaled,maerandomscaled,maesgdscaled,knnmaescaled]\n",
    "name = ['Linear Regression', 'Keras','Random Forest','SGD','KNN']"
   ]
  },
  {
   "cell_type": "code",
   "execution_count": 60,
   "metadata": {},
   "outputs": [
    {
     "data": {
      "text/plain": [
       "Text(0,0.5,'Mean Absolute Error')"
      ]
     },
     "execution_count": 60,
     "metadata": {},
     "output_type": "execute_result"
    },
    {
     "data": {
      "image/png": "[encoded data removed]",
      "text/plain": [
       "<Figure size 432x288 with 1 Axes>"
      ]
     },
     "metadata": {},
     "output_type": "display_data"
    }
   ],
   "source": [
    "plt.bar(name,meanlistscaled)\n",
    "plt.xlabel(\"Data\")\n",
    "plt.ylabel(\"Mean Absolute Error\")"
   ]
  },
  {
   "cell_type": "code",
   "execution_count": 61,
   "metadata": {
    "collapsed": true
   },
   "outputs": [],
   "source": [
    "num=[]\n",
    "for i in range(x_testscaled.shape[0]):\n",
    "    num.append(i+1)"
   ]
  },
  {
   "cell_type": "code",
   "execution_count": 62,
   "metadata": {},
   "outputs": [
    {
     "data": {
      "text/plain": [
       "Text(0,0.5,'Production')"
      ]
     },
     "execution_count": 62,
     "metadata": {},
     "output_type": "execute_result"
    },
    {
     "data": {
      "image/png": "[encoded data removed]",
      "text/plain": [
       "<Figure size 432x288 with 1 Axes>"
      ]
     },
     "metadata": {},
     "output_type": "display_data"
    }
   ],
   "source": [
    "plt.scatter(num,ypredranscaled,label=\"Predicted\")\n",
    "plt.scatter(num,y_test,label=\"Actual\")\n",
    "plt.legend()\n",
    "plt.xlabel(\"Datapoints\")\n",
    "plt.ylabel(\"Production\")"
   ]
  },
  {
   "cell_type": "code",
   "execution_count": null,
   "metadata": {
    "collapsed": true
   },
   "outputs": [],
   "source": []
  },
  {
   "cell_type": "code",
   "execution_count": null,
   "metadata": {
    "collapsed": true
   },
   "outputs": [],
   "source": []
  },
  {
   "cell_type": "code",
   "execution_count": null,
   "metadata": {
    "collapsed": true
   },
   "outputs": [],
   "source": [
    "df_test.head(10)"
   ]
  },
  {
   "cell_type": "code",
   "execution_count": 63,
   "metadata": {
    "collapsed": true
   },
   "outputs": [],
   "source": [
    "test =  pd.read_csv(\"UttarPradeshData.csv\")\n",
    "test = test.drop(['Unnamed: 0'], axis=1)"
   ]
  },
  {
   "cell_type": "code",
   "execution_count": 64,
   "metadata": {
    "collapsed": true
   },
   "outputs": [],
   "source": [
    "test = test.drop(['0'], axis=1)"
   ]
  },
  {
   "cell_type": "code",
   "execution_count": 65,
   "metadata": {},
   "outputs": [
    {
     "data": {
      "text/html": [
       "<div>\n",
       "<style scoped>\n",
       "    .dataframe tbody tr th:only-of-type {\n",
       "        vertical-align: middle;\n",
       "    }\n",
       "\n",
       "    .dataframe tbody tr th {\n",
       "        vertical-align: top;\n",
       "    }\n",
       "\n",
       "    .dataframe thead th {\n",
       "        text-align: right;\n",
       "    }\n",
       "</style>\n",
       "<table border=\"1\" class=\"dataframe\">\n",
       "  <thead>\n",
       "    <tr style=\"text-align: right;\">\n",
       "      <th></th>\n",
       "      <th>1</th>\n",
       "      <th>2</th>\n",
       "      <th>3</th>\n",
       "      <th>4</th>\n",
       "      <th>5</th>\n",
       "      <th>6</th>\n",
       "      <th>7</th>\n",
       "    </tr>\n",
       "  </thead>\n",
       "  <tbody>\n",
       "    <tr>\n",
       "      <th>0</th>\n",
       "      <td>balrampur</td>\n",
       "      <td>2014</td>\n",
       "      <td>Kharif</td>\n",
       "      <td>Urad</td>\n",
       "      <td>108030.0</td>\n",
       "      <td>0.000000e+00</td>\n",
       "      <td>0.000000e+00</td>\n",
       "    </tr>\n",
       "    <tr>\n",
       "      <th>1</th>\n",
       "      <td>balrampur</td>\n",
       "      <td>2014</td>\n",
       "      <td>Kharif</td>\n",
       "      <td>Urad</td>\n",
       "      <td>84190.0</td>\n",
       "      <td>1.482197e-323</td>\n",
       "      <td>1.482197e-323</td>\n",
       "    </tr>\n",
       "    <tr>\n",
       "      <th>2</th>\n",
       "      <td>balrampur</td>\n",
       "      <td>2014</td>\n",
       "      <td>Kharif</td>\n",
       "      <td>Sugarcane</td>\n",
       "      <td>43539.0</td>\n",
       "      <td>6.952763e-310</td>\n",
       "      <td>0.000000e+00</td>\n",
       "    </tr>\n",
       "    <tr>\n",
       "      <th>3</th>\n",
       "      <td>balrampur</td>\n",
       "      <td>2014</td>\n",
       "      <td>Rabi</td>\n",
       "      <td>Wheat</td>\n",
       "      <td>90246.0</td>\n",
       "      <td>2.152572e-314</td>\n",
       "      <td>6.952764e-310</td>\n",
       "    </tr>\n",
       "    <tr>\n",
       "      <th>4</th>\n",
       "      <td>balrampur</td>\n",
       "      <td>2014</td>\n",
       "      <td>Rabi</td>\n",
       "      <td>Wheat</td>\n",
       "      <td>18087.0</td>\n",
       "      <td>0.000000e+00</td>\n",
       "      <td>1.976263e-323</td>\n",
       "    </tr>\n",
       "    <tr>\n",
       "      <th>5</th>\n",
       "      <td>balrampur</td>\n",
       "      <td>2014</td>\n",
       "      <td>Rabi</td>\n",
       "      <td>Rapeseed &amp;Mustard</td>\n",
       "      <td>9629.0</td>\n",
       "      <td>0.000000e+00</td>\n",
       "      <td>0.000000e+00</td>\n",
       "    </tr>\n",
       "    <tr>\n",
       "      <th>6</th>\n",
       "      <td>agra</td>\n",
       "      <td>2014</td>\n",
       "      <td>Kharif</td>\n",
       "      <td>Urad</td>\n",
       "      <td>10164.0</td>\n",
       "      <td>1.149530e+02</td>\n",
       "      <td>2.829433e+01</td>\n",
       "    </tr>\n",
       "    <tr>\n",
       "      <th>7</th>\n",
       "      <td>agra</td>\n",
       "      <td>2014</td>\n",
       "      <td>Kharif</td>\n",
       "      <td>Sugarcane</td>\n",
       "      <td>1935.0</td>\n",
       "      <td>1.149530e+02</td>\n",
       "      <td>2.829433e+01</td>\n",
       "    </tr>\n",
       "    <tr>\n",
       "      <th>8</th>\n",
       "      <td>agra</td>\n",
       "      <td>2014</td>\n",
       "      <td>Kharif</td>\n",
       "      <td>Sesamum</td>\n",
       "      <td>495.0</td>\n",
       "      <td>1.149530e+02</td>\n",
       "      <td>2.829433e+01</td>\n",
       "    </tr>\n",
       "    <tr>\n",
       "      <th>9</th>\n",
       "      <td>agra</td>\n",
       "      <td>2014</td>\n",
       "      <td>Rabi</td>\n",
       "      <td>Wheat</td>\n",
       "      <td>136036.0</td>\n",
       "      <td>1.828000e+00</td>\n",
       "      <td>1.974325e+01</td>\n",
       "    </tr>\n",
       "    <tr>\n",
       "      <th>10</th>\n",
       "      <td>agra</td>\n",
       "      <td>2014</td>\n",
       "      <td>Rabi</td>\n",
       "      <td>Rapeseed &amp;Mustard</td>\n",
       "      <td>67228.0</td>\n",
       "      <td>1.828000e+00</td>\n",
       "      <td>1.974325e+01</td>\n",
       "    </tr>\n",
       "    <tr>\n",
       "      <th>11</th>\n",
       "      <td>agra</td>\n",
       "      <td>2014</td>\n",
       "      <td>Rabi</td>\n",
       "      <td>Potato</td>\n",
       "      <td>45613.0</td>\n",
       "      <td>1.828000e+00</td>\n",
       "      <td>1.974325e+01</td>\n",
       "    </tr>\n",
       "    <tr>\n",
       "      <th>12</th>\n",
       "      <td>aligarh</td>\n",
       "      <td>2014</td>\n",
       "      <td>Kharif</td>\n",
       "      <td>Urad</td>\n",
       "      <td>90420.0</td>\n",
       "      <td>1.221147e+02</td>\n",
       "      <td>2.866233e+01</td>\n",
       "    </tr>\n",
       "    <tr>\n",
       "      <th>13</th>\n",
       "      <td>aligarh</td>\n",
       "      <td>2014</td>\n",
       "      <td>Kharif</td>\n",
       "      <td>Sugarcane</td>\n",
       "      <td>14445.0</td>\n",
       "      <td>1.221147e+02</td>\n",
       "      <td>2.866233e+01</td>\n",
       "    </tr>\n",
       "    <tr>\n",
       "      <th>14</th>\n",
       "      <td>aligarh</td>\n",
       "      <td>2014</td>\n",
       "      <td>Kharif</td>\n",
       "      <td>Sesamum</td>\n",
       "      <td>6645.0</td>\n",
       "      <td>1.221147e+02</td>\n",
       "      <td>2.866233e+01</td>\n",
       "    </tr>\n",
       "  </tbody>\n",
       "</table>\n",
       "</div>"
      ],
      "text/plain": [
       "            1     2       3                  4         5              6  \\\n",
       "0   balrampur  2014  Kharif               Urad  108030.0   0.000000e+00   \n",
       "1   balrampur  2014  Kharif               Urad   84190.0  1.482197e-323   \n",
       "2   balrampur  2014  Kharif          Sugarcane   43539.0  6.952763e-310   \n",
       "3   balrampur  2014    Rabi              Wheat   90246.0  2.152572e-314   \n",
       "4   balrampur  2014    Rabi              Wheat   18087.0   0.000000e+00   \n",
       "5   balrampur  2014    Rabi  Rapeseed &Mustard    9629.0   0.000000e+00   \n",
       "6        agra  2014  Kharif               Urad   10164.0   1.149530e+02   \n",
       "7        agra  2014  Kharif          Sugarcane    1935.0   1.149530e+02   \n",
       "8        agra  2014  Kharif            Sesamum     495.0   1.149530e+02   \n",
       "9        agra  2014    Rabi              Wheat  136036.0   1.828000e+00   \n",
       "10       agra  2014    Rabi  Rapeseed &Mustard   67228.0   1.828000e+00   \n",
       "11       agra  2014    Rabi             Potato   45613.0   1.828000e+00   \n",
       "12    aligarh  2014  Kharif               Urad   90420.0   1.221147e+02   \n",
       "13    aligarh  2014  Kharif          Sugarcane   14445.0   1.221147e+02   \n",
       "14    aligarh  2014  Kharif            Sesamum    6645.0   1.221147e+02   \n",
       "\n",
       "                7  \n",
       "0    0.000000e+00  \n",
       "1   1.482197e-323  \n",
       "2    0.000000e+00  \n",
       "3   6.952764e-310  \n",
       "4   1.976263e-323  \n",
       "5    0.000000e+00  \n",
       "6    2.829433e+01  \n",
       "7    2.829433e+01  \n",
       "8    2.829433e+01  \n",
       "9    1.974325e+01  \n",
       "10   1.974325e+01  \n",
       "11   1.974325e+01  \n",
       "12   2.866233e+01  \n",
       "13   2.866233e+01  \n",
       "14   2.866233e+01  "
      ]
     },
     "execution_count": 65,
     "metadata": {},
     "output_type": "execute_result"
    }
   ],
   "source": [
    "test.head(15)"
   ]
  },
  {
   "cell_type": "code",
   "execution_count": 66,
   "metadata": {},
   "outputs": [
    {
     "data": {
      "text/plain": [
       "'agra'"
      ]
     },
     "execution_count": 66,
     "metadata": {},
     "output_type": "execute_result"
    }
   ],
   "source": [
    "test.loc[7][0]"
   ]
  },
  {
   "cell_type": "code",
   "execution_count": 67,
   "metadata": {
    "collapsed": true
   },
   "outputs": [],
   "source": [
    "testf = pd.DataFrame()\n",
    "testf = testf.assign(area = test[\"5\"])\n",
    "testf = testf.assign(rainfall = test[\"6\"])\n",
    "testf = testf.assign(season = test[\"3\"])\n",
    "testf = testf.assign(temp = test[\"7\"])\n",
    "testf = testf.assign(crop = test[\"4\"])"
   ]
  },
  {
   "cell_type": "code",
   "execution_count": 68,
   "metadata": {},
   "outputs": [
    {
     "data": {
      "text/html": [
       "<div>\n",
       "<style scoped>\n",
       "    .dataframe tbody tr th:only-of-type {\n",
       "        vertical-align: middle;\n",
       "    }\n",
       "\n",
       "    .dataframe tbody tr th {\n",
       "        vertical-align: top;\n",
       "    }\n",
       "\n",
       "    .dataframe thead th {\n",
       "        text-align: right;\n",
       "    }\n",
       "</style>\n",
       "<table border=\"1\" class=\"dataframe\">\n",
       "  <thead>\n",
       "    <tr style=\"text-align: right;\">\n",
       "      <th></th>\n",
       "      <th>area</th>\n",
       "      <th>rainfall</th>\n",
       "      <th>season</th>\n",
       "      <th>temp</th>\n",
       "      <th>crop</th>\n",
       "    </tr>\n",
       "  </thead>\n",
       "  <tbody>\n",
       "    <tr>\n",
       "      <th>0</th>\n",
       "      <td>108030.0</td>\n",
       "      <td>0.000000e+00</td>\n",
       "      <td>Kharif</td>\n",
       "      <td>0.000000e+00</td>\n",
       "      <td>Urad</td>\n",
       "    </tr>\n",
       "    <tr>\n",
       "      <th>1</th>\n",
       "      <td>84190.0</td>\n",
       "      <td>1.482197e-323</td>\n",
       "      <td>Kharif</td>\n",
       "      <td>1.482197e-323</td>\n",
       "      <td>Urad</td>\n",
       "    </tr>\n",
       "    <tr>\n",
       "      <th>2</th>\n",
       "      <td>43539.0</td>\n",
       "      <td>6.952763e-310</td>\n",
       "      <td>Kharif</td>\n",
       "      <td>0.000000e+00</td>\n",
       "      <td>Sugarcane</td>\n",
       "    </tr>\n",
       "    <tr>\n",
       "      <th>3</th>\n",
       "      <td>90246.0</td>\n",
       "      <td>2.152572e-314</td>\n",
       "      <td>Rabi</td>\n",
       "      <td>6.952764e-310</td>\n",
       "      <td>Wheat</td>\n",
       "    </tr>\n",
       "    <tr>\n",
       "      <th>4</th>\n",
       "      <td>18087.0</td>\n",
       "      <td>0.000000e+00</td>\n",
       "      <td>Rabi</td>\n",
       "      <td>1.976263e-323</td>\n",
       "      <td>Wheat</td>\n",
       "    </tr>\n",
       "    <tr>\n",
       "      <th>5</th>\n",
       "      <td>9629.0</td>\n",
       "      <td>0.000000e+00</td>\n",
       "      <td>Rabi</td>\n",
       "      <td>0.000000e+00</td>\n",
       "      <td>Rapeseed &amp;Mustard</td>\n",
       "    </tr>\n",
       "    <tr>\n",
       "      <th>6</th>\n",
       "      <td>10164.0</td>\n",
       "      <td>1.149530e+02</td>\n",
       "      <td>Kharif</td>\n",
       "      <td>2.829433e+01</td>\n",
       "      <td>Urad</td>\n",
       "    </tr>\n",
       "    <tr>\n",
       "      <th>7</th>\n",
       "      <td>1935.0</td>\n",
       "      <td>1.149530e+02</td>\n",
       "      <td>Kharif</td>\n",
       "      <td>2.829433e+01</td>\n",
       "      <td>Sugarcane</td>\n",
       "    </tr>\n",
       "    <tr>\n",
       "      <th>8</th>\n",
       "      <td>495.0</td>\n",
       "      <td>1.149530e+02</td>\n",
       "      <td>Kharif</td>\n",
       "      <td>2.829433e+01</td>\n",
       "      <td>Sesamum</td>\n",
       "    </tr>\n",
       "    <tr>\n",
       "      <th>9</th>\n",
       "      <td>136036.0</td>\n",
       "      <td>1.828000e+00</td>\n",
       "      <td>Rabi</td>\n",
       "      <td>1.974325e+01</td>\n",
       "      <td>Wheat</td>\n",
       "    </tr>\n",
       "  </tbody>\n",
       "</table>\n",
       "</div>"
      ],
      "text/plain": [
       "       area       rainfall  season           temp               crop\n",
       "0  108030.0   0.000000e+00  Kharif   0.000000e+00               Urad\n",
       "1   84190.0  1.482197e-323  Kharif  1.482197e-323               Urad\n",
       "2   43539.0  6.952763e-310  Kharif   0.000000e+00          Sugarcane\n",
       "3   90246.0  2.152572e-314    Rabi  6.952764e-310              Wheat\n",
       "4   18087.0   0.000000e+00    Rabi  1.976263e-323              Wheat\n",
       "5    9629.0   0.000000e+00    Rabi   0.000000e+00  Rapeseed &Mustard\n",
       "6   10164.0   1.149530e+02  Kharif   2.829433e+01               Urad\n",
       "7    1935.0   1.149530e+02  Kharif   2.829433e+01          Sugarcane\n",
       "8     495.0   1.149530e+02  Kharif   2.829433e+01            Sesamum\n",
       "9  136036.0   1.828000e+00    Rabi   1.974325e+01              Wheat"
      ]
     },
     "execution_count": 68,
     "metadata": {},
     "output_type": "execute_result"
    }
   ],
   "source": [
    "testf.head(10)"
   ]
  },
  {
   "cell_type": "code",
   "execution_count": null,
   "metadata": {
    "collapsed": true
   },
   "outputs": [],
   "source": []
  },
  {
   "cell_type": "code",
   "execution_count": null,
   "metadata": {
    "collapsed": true
   },
   "outputs": [],
   "source": []
  },
  {
   "cell_type": "code",
   "execution_count": 69,
   "metadata": {
    "collapsed": true
   },
   "outputs": [],
   "source": [
    "testf['season'] = se.transform(testf['season'])\n",
    "testf['crop'] = cr.transform(testf['crop'])"
   ]
  },
  {
   "cell_type": "code",
   "execution_count": null,
   "metadata": {
    "collapsed": true
   },
   "outputs": [],
   "source": [
    "#Enter from following Districts:\n",
    "1.Lucknow\n",
    "2.Agra\n",
    "3.Aligarh\n",
    "4.Jaunpur\n",
    "5.Pratapgarh\n",
    "6.Saharanpur\n",
    "7.Meerut\n",
    "8.Mahoba\n",
    "9.Kheri\n",
    "10.Ghazipur\n",
    "11.Etawah\n",
    "12.Gorakhpur\n",
    "13.Bareilly\n",
    "14.Allahabad\n",
    "15.Basti\n",
    "16.Ghaziabad\n",
    "17.Mathura\n",
    "18.Moradabad\n",
    "19.Philibhit\n",
    "20.Sitapur"
   ]
  },
  {
   "cell_type": "code",
   "execution_count": 70,
   "metadata": {},
   "outputs": [
    {
     "name": "stdout",
     "output_type": "stream",
     "text": [
      "Enter name of district: \n",
      "aligarh\n"
     ]
    }
   ],
   "source": [
    "print(\"Enter name of district: \")\n",
    "name = input()"
   ]
  },
  {
   "cell_type": "code",
   "execution_count": 71,
   "metadata": {},
   "outputs": [
    {
     "data": {
      "text/plain": [
       "'aligarh'"
      ]
     },
     "execution_count": 71,
     "metadata": {},
     "output_type": "execute_result"
    }
   ],
   "source": [
    "name = name.lower()\n",
    "name"
   ]
  },
  {
   "cell_type": "code",
   "execution_count": 72,
   "metadata": {
    "collapsed": true
   },
   "outputs": [],
   "source": [
    "x = []\n",
    "area = []\n",
    "for i in range(len(test)):\n",
    "    if test.loc[i][0] == name:\n",
    "        df = pd.DataFrame()\n",
    "        df = testf.loc[i]\n",
    "        df = np.array(df)\n",
    "        df = df.reshape((1, 5))\n",
    "        df = pd.DataFrame(df)\n",
    "        area.append((testf.loc[i][0], testf.loc[i][4]))\n",
    "        x.append(df)"
   ]
  },
  {
   "cell_type": "code",
   "execution_count": 73,
   "metadata": {
    "collapsed": true
   },
   "outputs": [],
   "source": [
    "df = pd.concat(x)"
   ]
  },
  {
   "cell_type": "code",
   "execution_count": 74,
   "metadata": {},
   "outputs": [
    {
     "data": {
      "text/html": [
       "<div>\n",
       "<style scoped>\n",
       "    .dataframe tbody tr th:only-of-type {\n",
       "        vertical-align: middle;\n",
       "    }\n",
       "\n",
       "    .dataframe tbody tr th {\n",
       "        vertical-align: top;\n",
       "    }\n",
       "\n",
       "    .dataframe thead th {\n",
       "        text-align: right;\n",
       "    }\n",
       "</style>\n",
       "<table border=\"1\" class=\"dataframe\">\n",
       "  <thead>\n",
       "    <tr style=\"text-align: right;\">\n",
       "      <th></th>\n",
       "      <th>0</th>\n",
       "      <th>1</th>\n",
       "      <th>2</th>\n",
       "      <th>3</th>\n",
       "      <th>4</th>\n",
       "    </tr>\n",
       "  </thead>\n",
       "  <tbody>\n",
       "    <tr>\n",
       "      <th>0</th>\n",
       "      <td>90420.0</td>\n",
       "      <td>122.114667</td>\n",
       "      <td>1.0</td>\n",
       "      <td>28.662333</td>\n",
       "      <td>13.0</td>\n",
       "    </tr>\n",
       "    <tr>\n",
       "      <th>0</th>\n",
       "      <td>14445.0</td>\n",
       "      <td>122.114667</td>\n",
       "      <td>1.0</td>\n",
       "      <td>28.662333</td>\n",
       "      <td>12.0</td>\n",
       "    </tr>\n",
       "    <tr>\n",
       "      <th>0</th>\n",
       "      <td>6645.0</td>\n",
       "      <td>122.114667</td>\n",
       "      <td>1.0</td>\n",
       "      <td>28.662333</td>\n",
       "      <td>11.0</td>\n",
       "    </tr>\n",
       "    <tr>\n",
       "      <th>0</th>\n",
       "      <td>223267.0</td>\n",
       "      <td>4.049500</td>\n",
       "      <td>2.0</td>\n",
       "      <td>19.588750</td>\n",
       "      <td>14.0</td>\n",
       "    </tr>\n",
       "    <tr>\n",
       "      <th>0</th>\n",
       "      <td>21683.0</td>\n",
       "      <td>4.049500</td>\n",
       "      <td>2.0</td>\n",
       "      <td>19.588750</td>\n",
       "      <td>9.0</td>\n",
       "    </tr>\n",
       "    <tr>\n",
       "      <th>0</th>\n",
       "      <td>19731.0</td>\n",
       "      <td>4.049500</td>\n",
       "      <td>2.0</td>\n",
       "      <td>19.588750</td>\n",
       "      <td>8.0</td>\n",
       "    </tr>\n",
       "  </tbody>\n",
       "</table>\n",
       "</div>"
      ],
      "text/plain": [
       "          0           1    2          3     4\n",
       "0   90420.0  122.114667  1.0  28.662333  13.0\n",
       "0   14445.0  122.114667  1.0  28.662333  12.0\n",
       "0    6645.0  122.114667  1.0  28.662333  11.0\n",
       "0  223267.0    4.049500  2.0  19.588750  14.0\n",
       "0   21683.0    4.049500  2.0  19.588750   9.0\n",
       "0   19731.0    4.049500  2.0  19.588750   8.0"
      ]
     },
     "execution_count": 74,
     "metadata": {},
     "output_type": "execute_result"
    }
   ],
   "source": [
    "df"
   ]
  },
  {
   "cell_type": "code",
   "execution_count": 75,
   "metadata": {
    "collapsed": true
   },
   "outputs": [],
   "source": [
    "x=df.values"
   ]
  },
  {
   "cell_type": "code",
   "execution_count": 76,
   "metadata": {
    "collapsed": true
   },
   "outputs": [],
   "source": [
    "x=scaler.transform(x)"
   ]
  },
  {
   "cell_type": "code",
   "execution_count": 77,
   "metadata": {
    "collapsed": true
   },
   "outputs": [],
   "source": [
    "ypred = clf1.predict(x)"
   ]
  },
  {
   "cell_type": "code",
   "execution_count": 78,
   "metadata": {},
   "outputs": [
    {
     "data": {
      "text/plain": [
       "array([ 29857.3, 923708.6,   2964.9, 794300.1,  25039. , 430189.1])"
      ]
     },
     "execution_count": 78,
     "metadata": {},
     "output_type": "execute_result"
    }
   ],
   "source": [
    "ypred"
   ]
  },
  {
   "cell_type": "code",
   "execution_count": 79,
   "metadata": {},
   "outputs": [
    {
     "data": {
      "text/plain": [
       "(numpy.ndarray, list)"
      ]
     },
     "execution_count": 79,
     "metadata": {},
     "output_type": "execute_result"
    }
   ],
   "source": [
    "type(ypred), type(area)"
   ]
  },
  {
   "cell_type": "code",
   "execution_count": 80,
   "metadata": {},
   "outputs": [
    {
     "data": {
      "text/plain": [
       "((6,), 6)"
      ]
     },
     "execution_count": 80,
     "metadata": {},
     "output_type": "execute_result"
    }
   ],
   "source": [
    "ypred.shape, len(area)"
   ]
  },
  {
   "cell_type": "code",
   "execution_count": 81,
   "metadata": {
    "collapsed": true
   },
   "outputs": [],
   "source": [
    "yld = []\n",
    "cnt=0\n",
    "for i, j in area:\n",
    "    yld.append((ypred[cnt] / i , j))\n",
    "    cnt+=1"
   ]
  },
  {
   "cell_type": "code",
   "execution_count": 82,
   "metadata": {},
   "outputs": [
    {
     "name": "stdout",
     "output_type": "stream",
     "text": [
      "0.33020681265206814 13.0\n",
      "63.946597438560055 12.0\n",
      "0.44618510158013547 11.0\n",
      "3.557624279450165 14.0\n",
      "1.1547756306784116 9.0\n",
      "21.802701332927878 8.0\n"
     ]
    }
   ],
   "source": [
    "for i, j in yld:\n",
    "    print(i, j)"
   ]
  },
  {
   "cell_type": "code",
   "execution_count": 83,
   "metadata": {
    "collapsed": true
   },
   "outputs": [],
   "source": [
    "kharif = []\n",
    "cnt=0\n",
    "for i, j in yld:\n",
    "    if cnt == 3:\n",
    "        break\n",
    "    kharif.append((i, j))\n",
    "    cnt+=1\n",
    "cnt=1\n",
    "rabi = []\n",
    "for i, j in yld:\n",
    "    if cnt<=3:\n",
    "        cnt+=1\n",
    "        continue\n",
    "    rabi.append((i, j))"
   ]
  },
  {
   "cell_type": "code",
   "execution_count": 84,
   "metadata": {},
   "outputs": [
    {
     "data": {
      "text/plain": [
       "(3, 3)"
      ]
     },
     "execution_count": 84,
     "metadata": {},
     "output_type": "execute_result"
    }
   ],
   "source": [
    "len(kharif), len(rabi)"
   ]
  },
  {
   "cell_type": "code",
   "execution_count": 85,
   "metadata": {
    "collapsed": true
   },
   "outputs": [],
   "source": [
    "kharif.sort(reverse = True)\n",
    "rabi.sort(reverse = True)"
   ]
  },
  {
   "cell_type": "code",
   "execution_count": 86,
   "metadata": {},
   "outputs": [
    {
     "data": {
      "text/plain": [
       "(3, 3)"
      ]
     },
     "execution_count": 86,
     "metadata": {},
     "output_type": "execute_result"
    }
   ],
   "source": [
    "len(kharif), len(rabi)"
   ]
  },
  {
   "cell_type": "code",
   "execution_count": 87,
   "metadata": {},
   "outputs": [
    {
     "name": "stdout",
     "output_type": "stream",
     "text": [
      "63.946597438560055 12.0\n",
      "0.44618510158013547 11.0\n",
      "0.33020681265206814 13.0\n"
     ]
    },
    {
     "name": "stderr",
     "output_type": "stream",
     "text": [
      "/anaconda2/envs/pyy36/lib/python3.6/site-packages/sklearn/preprocessing/label.py:151: DeprecationWarning: The truth value of an empty array is ambiguous. Returning False, but in future this will result in an error. Use `array.size > 0` to check that an array is not empty.\n",
      "  if diff:\n",
      "/anaconda2/envs/pyy36/lib/python3.6/site-packages/sklearn/preprocessing/label.py:151: DeprecationWarning: The truth value of an empty array is ambiguous. Returning False, but in future this will result in an error. Use `array.size > 0` to check that an array is not empty.\n",
      "  if diff:\n",
      "/anaconda2/envs/pyy36/lib/python3.6/site-packages/sklearn/preprocessing/label.py:151: DeprecationWarning: The truth value of an empty array is ambiguous. Returning False, but in future this will result in an error. Use `array.size > 0` to check that an array is not empty.\n",
      "  if diff:\n",
      "/anaconda2/envs/pyy36/lib/python3.6/site-packages/sklearn/preprocessing/label.py:151: DeprecationWarning: The truth value of an empty array is ambiguous. Returning False, but in future this will result in an error. Use `array.size > 0` to check that an array is not empty.\n",
      "  if diff:\n",
      "/anaconda2/envs/pyy36/lib/python3.6/site-packages/sklearn/preprocessing/label.py:151: DeprecationWarning: The truth value of an empty array is ambiguous. Returning False, but in future this will result in an error. Use `array.size > 0` to check that an array is not empty.\n",
      "  if diff:\n",
      "/anaconda2/envs/pyy36/lib/python3.6/site-packages/sklearn/preprocessing/label.py:151: DeprecationWarning: The truth value of an empty array is ambiguous. Returning False, but in future this will result in an error. Use `array.size > 0` to check that an array is not empty.\n",
      "  if diff:\n"
     ]
    }
   ],
   "source": [
    "anskharif = []\n",
    "for i, j in kharif:\n",
    "    print(i, j)\n",
    "    j_ = cr.inverse_transform(int(j))\n",
    "    anskharif.append((i, j_))\n",
    "ansrabi = []\n",
    "for i, j in rabi:\n",
    "    j_ = cr.inverse_transform(int(j))\n",
    "    ansrabi.append((i, j_))"
   ]
  },
  {
   "cell_type": "code",
   "execution_count": 88,
   "metadata": {},
   "outputs": [
    {
     "name": "stdout",
     "output_type": "stream",
     "text": [
      "Crop:  Sugarcane  ,  Yield: 63.946597438560055\n",
      "Crop:  Sesamum  ,  Yield: 0.44618510158013547\n",
      "Crop:  Urad  ,  Yield: 0.33020681265206814\n"
     ]
    }
   ],
   "source": [
    "for i, j in anskharif:\n",
    "    print(\"Crop: \",j,\" , \",\"Yield:\", i)"
   ]
  },
  {
   "cell_type": "code",
   "execution_count": 89,
   "metadata": {},
   "outputs": [
    {
     "name": "stdout",
     "output_type": "stream",
     "text": [
      "Crop:  Potato  ,  Yield: 21.802701332927878\n",
      "Crop:  Wheat  ,  Yield: 3.557624279450165\n",
      "Crop:  Rapeseed &Mustard  ,  Yield: 1.1547756306784116\n"
     ]
    }
   ],
   "source": [
    "for i, j in ansrabi:\n",
    "    print(\"Crop: \",j,\" , \",\"Yield:\", i)"
   ]
  },
  {
   "cell_type": "code",
   "execution_count": null,
   "metadata": {
    "collapsed": true
   },
   "outputs": [],
   "source": []
  }
 ],
 "metadata": {
  "kernelspec": {
   "display_name": "Python 3",
   "language": "python",
   "name": "python3"
  },
  "language_info": {
   "codemirror_mode": {
    "name": "ipython",
    "version": 3
   },
   "file_extension": ".py",
   "mimetype": "text/x-python",
   "name": "python",
   "nbconvert_exporter": "python",
   "pygments_lexer": "ipython3",
   "version": "3.5.2"
  }
 },
 "nbformat": 4,
 "nbformat_minor": 2
}
