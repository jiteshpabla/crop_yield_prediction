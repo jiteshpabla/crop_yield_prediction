{
 "cells": [
  {
   "cell_type": "code",
   "execution_count": 113,
   "metadata": {
    "collapsed": true
   },
   "outputs": [],
   "source": [
    "import numpy as np"
   ]
  },
  {
   "cell_type": "code",
   "execution_count": 114,
   "metadata": {
    "collapsed": true
   },
   "outputs": [],
   "source": [
    "import pandas as pd"
   ]
  },
  {
   "cell_type": "code",
   "execution_count": 115,
   "metadata": {
    "collapsed": true
   },
   "outputs": [],
   "source": [
    "from keras.models import model_from_json"
   ]
  },
  {
   "cell_type": "code",
   "execution_count": 116,
   "metadata": {
    "collapsed": true
   },
   "outputs": [],
   "source": [
    "# func to save and load file to reduce processing time\n",
    "import pickle\n",
    "def save(dictionary, name):\n",
    "    with open(name, 'wb') as fp:\n",
    "        pickle.dump(dictionary, fp, protocol=pickle.HIGHEST_PROTOCOL)\n",
    "\n",
    "# func to load:\n",
    "def load(name):\n",
    "    with open(name, 'rb') as fp:\n",
    "        data = pickle.load(fp)\n",
    "        return data"
   ]
  },
  {
   "cell_type": "code",
   "execution_count": 117,
   "metadata": {
    "collapsed": true
   },
   "outputs": [],
   "source": [
    "# save(dict1,\"dict_rainfallFinal\")"
   ]
  },
  {
   "cell_type": "code",
   "execution_count": 121,
   "metadata": {
    "collapsed": true
   },
   "outputs": [],
   "source": [
    "dict1=load(\"dict_rainfallFinal\")"
   ]
  },
  {
   "cell_type": "code",
   "execution_count": 122,
   "metadata": {
    "collapsed": true
   },
   "outputs": [],
   "source": [
    "# dict1"
   ]
  },
  {
   "cell_type": "code",
   "execution_count": 123,
   "metadata": {
    "collapsed": true
   },
   "outputs": [],
   "source": [
    "# p=n.iloc[3]"
   ]
  },
  {
   "cell_type": "code",
   "execution_count": 124,
   "metadata": {
    "collapsed": true
   },
   "outputs": [],
   "source": [
    "# n.iloc[0][15]"
   ]
  },
  {
   "cell_type": "code",
   "execution_count": 125,
   "metadata": {
    "collapsed": true
   },
   "outputs": [],
   "source": [
    "# p=p.drop(['State','District','Year','vlookup'])"
   ]
  },
  {
   "cell_type": "code",
   "execution_count": 126,
   "metadata": {
    "collapsed": true
   },
   "outputs": [],
   "source": [
    "# p=np.array(p)"
   ]
  },
  {
   "cell_type": "code",
   "execution_count": 127,
   "metadata": {
    "collapsed": true
   },
   "outputs": [],
   "source": [
    "# li=[]"
   ]
  },
  {
   "cell_type": "code",
   "execution_count": 128,
   "metadata": {
    "collapsed": true
   },
   "outputs": [],
   "source": [
    "# li=p"
   ]
  },
  {
   "cell_type": "code",
   "execution_count": 129,
   "metadata": {
    "collapsed": true
   },
   "outputs": [],
   "source": [
    "# dicttemp={}"
   ]
  },
  {
   "cell_type": "code",
   "execution_count": 130,
   "metadata": {
    "collapsed": true
   },
   "outputs": [],
   "source": [
    "# dicttemp[0]=p"
   ]
  },
  {
   "cell_type": "code",
   "execution_count": 131,
   "metadata": {
    "collapsed": true
   },
   "outputs": [],
   "source": [
    "\n",
    "# dicttemp[0]"
   ]
  },
  {
   "cell_type": "code",
   "execution_count": 132,
   "metadata": {},
   "outputs": [
    {
     "data": {
      "text/plain": [
       "102"
      ]
     },
     "execution_count": 132,
     "metadata": {},
     "output_type": "execute_result"
    }
   ],
   "source": [
    "len(dict1['adilabad'])\n",
    "    "
   ]
  },
  {
   "cell_type": "code",
   "execution_count": 133,
   "metadata": {
    "collapsed": true
   },
   "outputs": [],
   "source": [
    "def predictdistrict(name):\n",
    "    ll=[]\n",
    "    for i in dict1[name]:\n",
    "        ll.append(dict1[name][i])\n",
    "    ll=np.array(ll)\n",
    "   \n",
    "\n",
    "    district=ll\n",
    "#     print(district,\" \",district.shape)\n",
    "    district_train=district[:90]\n",
    "    district_test=district[90:]\n",
    "    xtrain,ytrain=create_dataset(district_train,10)\n",
    "    xtest=create_dataset_testx(district_test,10)\n",
    "    ytest=create_dataset_testy(district_test,10)\n",
    "    return xtrain,ytrain,xtest,ytest  "
   ]
  },
  {
   "cell_type": "code",
   "execution_count": 134,
   "metadata": {
    "collapsed": true
   },
   "outputs": [],
   "source": [
    "def create_dataset(data,k):\n",
    "    datax,datay=[],[]\n",
    "    for i in range(data.shape[0]-k):\n",
    "        x=data[i:i+k]\n",
    "        datax.append(x)\n",
    "        y=data[i+k]\n",
    "        datay.append(y)\n",
    "    return np.array(datax),np.array(datay)"
   ]
  },
  {
   "cell_type": "code",
   "execution_count": 135,
   "metadata": {
    "collapsed": true
   },
   "outputs": [],
   "source": [
    "def create_dataset_testx(data,k):\n",
    "    datax=[]\n",
    "    for i in range(data.shape[0]-k+1):\n",
    "        x=data[i:i+k]\n",
    "        datax.append(x)\n",
    "    return np.array(datax)"
   ]
  },
  {
   "cell_type": "code",
   "execution_count": 136,
   "metadata": {
    "collapsed": true
   },
   "outputs": [],
   "source": [
    "def create_dataset_testy(data,k):\n",
    "    datay=[]\n",
    "    for i in range(data.shape[0]-k):\n",
    "         y=data[i+k]\n",
    "         datay.append(y)\n",
    "    return np.array(datay)"
   ]
  },
  {
   "cell_type": "code",
   "execution_count": null,
   "metadata": {
    "collapsed": true
   },
   "outputs": [],
   "source": []
  },
  {
   "cell_type": "code",
   "execution_count": 137,
   "metadata": {
    "collapsed": true
   },
   "outputs": [],
   "source": [
    "districtname='lucknow'\n",
    "xtrain,ytrain,xtest,ytest=predictdistrict(districtname)"
   ]
  },
  {
   "cell_type": "code",
   "execution_count": 138,
   "metadata": {},
   "outputs": [
    {
     "data": {
      "text/plain": [
       "(80, 10, 12)"
      ]
     },
     "execution_count": 138,
     "metadata": {},
     "output_type": "execute_result"
    }
   ],
   "source": [
    "xtrain.shape"
   ]
  },
  {
   "cell_type": "code",
   "execution_count": 139,
   "metadata": {},
   "outputs": [
    {
     "data": {
      "text/plain": [
       "(80, 12)"
      ]
     },
     "execution_count": 139,
     "metadata": {},
     "output_type": "execute_result"
    }
   ],
   "source": [
    "ytrain.shape"
   ]
  },
  {
   "cell_type": "code",
   "execution_count": 140,
   "metadata": {},
   "outputs": [
    {
     "data": {
      "text/plain": [
       "(3, 10, 12)"
      ]
     },
     "execution_count": 140,
     "metadata": {},
     "output_type": "execute_result"
    }
   ],
   "source": [
    "xtest.shape"
   ]
  },
  {
   "cell_type": "code",
   "execution_count": 141,
   "metadata": {},
   "outputs": [
    {
     "data": {
      "text/plain": [
       "(2, 12)"
      ]
     },
     "execution_count": 141,
     "metadata": {},
     "output_type": "execute_result"
    }
   ],
   "source": [
    "ytest.shape"
   ]
  },
  {
   "cell_type": "code",
   "execution_count": null,
   "metadata": {
    "collapsed": true
   },
   "outputs": [],
   "source": []
  },
  {
   "cell_type": "code",
   "execution_count": 142,
   "metadata": {},
   "outputs": [
    {
     "data": {
      "text/plain": [
       "((3, 10, 12), (2, 12))"
      ]
     },
     "execution_count": 142,
     "metadata": {},
     "output_type": "execute_result"
    }
   ],
   "source": [
    "xtest.shape,ytest.shape"
   ]
  },
  {
   "cell_type": "code",
   "execution_count": 143,
   "metadata": {
    "collapsed": true
   },
   "outputs": [],
   "source": [
    "from keras.layers import SimpleRNN,Dense,LSTM,Dropout,Activation,BatchNormalization"
   ]
  },
  {
   "cell_type": "code",
   "execution_count": 144,
   "metadata": {
    "collapsed": true
   },
   "outputs": [],
   "source": [
    "from keras.models import Sequential"
   ]
  },
  {
   "cell_type": "code",
   "execution_count": 145,
   "metadata": {
    "collapsed": true
   },
   "outputs": [],
   "source": [
    "from keras import optimizers"
   ]
  },
  {
   "cell_type": "code",
   "execution_count": 146,
   "metadata": {
    "collapsed": true
   },
   "outputs": [],
   "source": [
    "model=Sequential()\n",
    "look_back=10"
   ]
  },
  {
   "cell_type": "code",
   "execution_count": null,
   "metadata": {
    "collapsed": true
   },
   "outputs": [],
   "source": []
  },
  {
   "cell_type": "code",
   "execution_count": 147,
   "metadata": {
    "scrolled": true
   },
   "outputs": [
    {
     "name": "stdout",
     "output_type": "stream",
     "text": [
      "Epoch 1/100\n",
      "80/80 [==============================] - 3s 33ms/step - loss: 74.3415 - acc: 0.4500\n",
      "Epoch 2/100\n",
      "80/80 [==============================] - 2s 19ms/step - loss: 43.2019 - acc: 0.6000\n",
      "Epoch 3/100\n",
      "80/80 [==============================] - 2s 19ms/step - loss: 34.8483 - acc: 0.4750\n",
      "Epoch 4/100\n",
      "80/80 [==============================] - 2s 19ms/step - loss: 34.4918 - acc: 0.5375\n",
      "Epoch 5/100\n",
      "80/80 [==============================] - 2s 20ms/step - loss: 33.8217 - acc: 0.4375\n",
      "Epoch 6/100\n",
      "80/80 [==============================] - 2s 20ms/step - loss: 35.4403 - acc: 0.5750\n",
      "Epoch 7/100\n",
      "80/80 [==============================] - 2s 20ms/step - loss: 34.1604 - acc: 0.5875\n",
      "Epoch 8/100\n",
      "80/80 [==============================] - 2s 20ms/step - loss: 32.8703 - acc: 0.5750\n",
      "Epoch 9/100\n",
      "80/80 [==============================] - 2s 20ms/step - loss: 33.5187 - acc: 0.5750\n",
      "Epoch 10/100\n",
      "80/80 [==============================] - 2s 20ms/step - loss: 33.0274 - acc: 0.5875\n",
      "Epoch 11/100\n",
      "80/80 [==============================] - 2s 22ms/step - loss: 33.2485 - acc: 0.6000\n",
      "Epoch 12/100\n",
      "80/80 [==============================] - 2s 21ms/step - loss: 32.8651 - acc: 0.5875\n",
      "Epoch 13/100\n",
      "80/80 [==============================] - 2s 20ms/step - loss: 33.2955 - acc: 0.5875\n",
      "Epoch 14/100\n",
      "80/80 [==============================] - 2s 21ms/step - loss: 31.1707 - acc: 0.5875\n",
      "Epoch 15/100\n",
      "80/80 [==============================] - 2s 23ms/step - loss: 32.3930 - acc: 0.5875\n",
      "Epoch 16/100\n",
      "80/80 [==============================] - 2s 19ms/step - loss: 32.5896 - acc: 0.6000\n",
      "Epoch 17/100\n",
      "80/80 [==============================] - 2s 20ms/step - loss: 34.1449 - acc: 0.5625\n",
      "Epoch 18/100\n",
      "80/80 [==============================] - 2s 21ms/step - loss: 32.2060 - acc: 0.5875\n",
      "Epoch 19/100\n",
      "80/80 [==============================] - 2s 19ms/step - loss: 32.9218 - acc: 0.5750\n",
      "Epoch 20/100\n",
      "80/80 [==============================] - 2s 20ms/step - loss: 32.8394 - acc: 0.5500\n",
      "Epoch 21/100\n",
      "80/80 [==============================] - 2s 22ms/step - loss: 31.4905 - acc: 0.5500\n",
      "Epoch 22/100\n",
      "80/80 [==============================] - 2s 23ms/step - loss: 34.0545 - acc: 0.5875\n",
      "Epoch 23/100\n",
      "80/80 [==============================] - 2s 21ms/step - loss: 32.0120 - acc: 0.5875\n",
      "Epoch 24/100\n",
      "80/80 [==============================] - 2s 19ms/step - loss: 32.0384 - acc: 0.5875\n",
      "Epoch 25/100\n",
      "80/80 [==============================] - 2s 24ms/step - loss: 33.0481 - acc: 0.5375\n",
      "Epoch 26/100\n",
      "80/80 [==============================] - 2s 20ms/step - loss: 32.7987 - acc: 0.5125\n",
      "Epoch 27/100\n",
      "80/80 [==============================] - 2s 23ms/step - loss: 32.7505 - acc: 0.5875\n",
      "Epoch 28/100\n",
      "80/80 [==============================] - 2s 28ms/step - loss: 32.8664 - acc: 0.5875\n",
      "Epoch 29/100\n",
      "80/80 [==============================] - 2s 21ms/step - loss: 32.1194 - acc: 0.4750\n",
      "Epoch 30/100\n",
      "80/80 [==============================] - 2s 19ms/step - loss: 32.1385 - acc: 0.5875\n",
      "Epoch 31/100\n",
      "80/80 [==============================] - 2s 19ms/step - loss: 32.2491 - acc: 0.5875\n",
      "Epoch 32/100\n",
      "80/80 [==============================] - 1s 19ms/step - loss: 32.4260 - acc: 0.5875\n",
      "Epoch 33/100\n",
      "80/80 [==============================] - 2s 19ms/step - loss: 32.0460 - acc: 0.5875\n",
      "Epoch 34/100\n",
      "80/80 [==============================] - 1s 19ms/step - loss: 32.3370 - acc: 0.5875\n",
      "Epoch 35/100\n",
      "80/80 [==============================] - 2s 20ms/step - loss: 30.7113 - acc: 0.6125\n",
      "Epoch 36/100\n",
      "80/80 [==============================] - 2s 27ms/step - loss: 32.8832 - acc: 0.4750\n",
      "Epoch 37/100\n",
      "80/80 [==============================] - 2s 25ms/step - loss: 33.7618 - acc: 0.5875\n",
      "Epoch 38/100\n",
      "80/80 [==============================] - 2s 29ms/step - loss: 31.7420 - acc: 0.5875\n",
      "Epoch 39/100\n",
      "80/80 [==============================] - 2s 29ms/step - loss: 32.7128 - acc: 0.5875\n",
      "Epoch 40/100\n",
      "80/80 [==============================] - 2s 29ms/step - loss: 31.3934 - acc: 0.5875\n",
      "Epoch 41/100\n",
      "80/80 [==============================] - 2s 21ms/step - loss: 32.5943 - acc: 0.5875\n",
      "Epoch 42/100\n",
      "80/80 [==============================] - 1s 18ms/step - loss: 32.7350 - acc: 0.5875\n",
      "Epoch 43/100\n",
      "80/80 [==============================] - 2s 21ms/step - loss: 35.0462 - acc: 0.5875\n",
      "Epoch 44/100\n",
      "80/80 [==============================] - 2s 20ms/step - loss: 32.7348 - acc: 0.5875\n",
      "Epoch 45/100\n",
      "80/80 [==============================] - 2s 19ms/step - loss: 32.8068 - acc: 0.5875\n",
      "Epoch 46/100\n",
      "80/80 [==============================] - 2s 20ms/step - loss: 31.4330 - acc: 0.5875\n",
      "Epoch 47/100\n",
      "80/80 [==============================] - 2s 22ms/step - loss: 33.0942 - acc: 0.5750\n",
      "Epoch 48/100\n",
      "80/80 [==============================] - 2s 23ms/step - loss: 31.6998 - acc: 0.5875\n",
      "Epoch 49/100\n",
      "80/80 [==============================] - 2s 20ms/step - loss: 32.1044 - acc: 0.6000\n",
      "Epoch 50/100\n",
      "80/80 [==============================] - 2s 19ms/step - loss: 32.7676 - acc: 0.5875\n",
      "Epoch 51/100\n",
      "80/80 [==============================] - 2s 19ms/step - loss: 32.9594 - acc: 0.5875\n",
      "Epoch 52/100\n",
      "80/80 [==============================] - 1s 18ms/step - loss: 31.8737 - acc: 0.5875\n",
      "Epoch 53/100\n",
      "80/80 [==============================] - 1s 18ms/step - loss: 33.2687 - acc: 0.5875\n",
      "Epoch 54/100\n",
      "80/80 [==============================] - 1s 18ms/step - loss: 31.1000 - acc: 0.5875\n",
      "Epoch 55/100\n",
      "80/80 [==============================] - 1s 18ms/step - loss: 32.4820 - acc: 0.5875\n",
      "Epoch 56/100\n",
      "80/80 [==============================] - 1s 18ms/step - loss: 32.1319 - acc: 0.5875\n",
      "Epoch 57/100\n",
      "80/80 [==============================] - 1s 18ms/step - loss: 31.9773 - acc: 0.5875\n",
      "Epoch 58/100\n",
      "80/80 [==============================] - 1s 18ms/step - loss: 29.4376 - acc: 0.5750\n",
      "Epoch 59/100\n",
      "80/80 [==============================] - 1s 18ms/step - loss: 31.4156 - acc: 0.5875\n",
      "Epoch 60/100\n",
      "80/80 [==============================] - 1s 18ms/step - loss: 31.2348 - acc: 0.5875\n",
      "Epoch 61/100\n",
      "80/80 [==============================] - 2s 19ms/step - loss: 32.4057 - acc: 0.5875\n",
      "Epoch 62/100\n",
      "80/80 [==============================] - 1s 18ms/step - loss: 31.2545 - acc: 0.5875\n",
      "Epoch 63/100\n",
      "80/80 [==============================] - 1s 18ms/step - loss: 32.8827 - acc: 0.6000\n",
      "Epoch 64/100\n",
      "80/80 [==============================] - 2s 20ms/step - loss: 31.2861 - acc: 0.5875\n",
      "Epoch 65/100\n",
      "80/80 [==============================] - 2s 19ms/step - loss: 31.6914 - acc: 0.5625\n",
      "Epoch 66/100\n",
      "80/80 [==============================] - 2s 19ms/step - loss: 31.3433 - acc: 0.5500\n",
      "Epoch 67/100\n",
      "80/80 [==============================] - 1s 18ms/step - loss: 32.3853 - acc: 0.5875\n",
      "Epoch 68/100\n",
      "80/80 [==============================] - 1s 18ms/step - loss: 32.8290 - acc: 0.5875\n",
      "Epoch 69/100\n",
      "80/80 [==============================] - 2s 19ms/step - loss: 31.2294 - acc: 0.5750\n",
      "Epoch 70/100\n",
      "80/80 [==============================] - 2s 19ms/step - loss: 30.8979 - acc: 0.5875\n",
      "Epoch 71/100\n",
      "80/80 [==============================] - 2s 19ms/step - loss: 33.1574 - acc: 0.5875\n",
      "Epoch 72/100\n",
      "80/80 [==============================] - 2s 24ms/step - loss: 32.7547 - acc: 0.5875\n",
      "Epoch 73/100\n",
      "80/80 [==============================] - 2s 23ms/step - loss: 31.7117 - acc: 0.5750\n",
      "Epoch 74/100\n",
      "80/80 [==============================] - 2s 21ms/step - loss: 32.4523 - acc: 0.6000\n",
      "Epoch 75/100\n",
      "80/80 [==============================] - 2s 19ms/step - loss: 31.5703 - acc: 0.4000\n",
      "Epoch 76/100\n",
      "80/80 [==============================] - 1s 19ms/step - loss: 33.2339 - acc: 0.5875\n",
      "Epoch 77/100\n",
      "80/80 [==============================] - 2s 21ms/step - loss: 33.1990 - acc: 0.4875\n",
      "Epoch 78/100\n",
      "80/80 [==============================] - 2s 19ms/step - loss: 33.5142 - acc: 0.5625\n",
      "Epoch 79/100\n",
      "80/80 [==============================] - 2s 20ms/step - loss: 33.4532 - acc: 0.5625\n",
      "Epoch 80/100\n",
      "80/80 [==============================] - 2s 20ms/step - loss: 30.9189 - acc: 0.4125\n",
      "Epoch 81/100\n",
      "80/80 [==============================] - 1s 19ms/step - loss: 30.7935 - acc: 0.6000\n",
      "Epoch 82/100\n",
      "80/80 [==============================] - 2s 25ms/step - loss: 33.2247 - acc: 0.5875\n",
      "Epoch 83/100\n",
      "80/80 [==============================] - 2s 19ms/step - loss: 31.0671 - acc: 0.5625\n",
      "Epoch 84/100\n",
      "80/80 [==============================] - 1s 18ms/step - loss: 31.0996 - acc: 0.5375\n",
      "Epoch 85/100\n",
      "80/80 [==============================] - 1s 19ms/step - loss: 32.8214 - acc: 0.5875\n",
      "Epoch 86/100\n",
      "80/80 [==============================] - 2s 19ms/step - loss: 31.6579 - acc: 0.5875\n",
      "Epoch 87/100\n",
      "80/80 [==============================] - 1s 19ms/step - loss: 32.4533 - acc: 0.5875\n",
      "Epoch 88/100\n",
      "80/80 [==============================] - 1s 18ms/step - loss: 30.1374 - acc: 0.5875\n",
      "Epoch 89/100\n",
      "80/80 [==============================] - 1s 18ms/step - loss: 33.2447 - acc: 0.6000\n",
      "Epoch 90/100\n",
      "80/80 [==============================] - 1s 18ms/step - loss: 31.9039 - acc: 0.5875\n",
      "Epoch 91/100\n",
      "80/80 [==============================] - 1s 17ms/step - loss: 32.4090 - acc: 0.5750\n",
      "Epoch 92/100\n",
      "80/80 [==============================] - 1s 18ms/step - loss: 30.8419 - acc: 0.5875\n",
      "Epoch 93/100\n",
      "80/80 [==============================] - 2s 27ms/step - loss: 30.2906 - acc: 0.5750\n",
      "Epoch 94/100\n",
      "80/80 [==============================] - 2s 24ms/step - loss: 31.3618 - acc: 0.5875\n",
      "Epoch 95/100\n",
      "80/80 [==============================] - 2s 19ms/step - loss: 32.1842 - acc: 0.5750\n",
      "Epoch 96/100\n",
      "80/80 [==============================] - 2s 19ms/step - loss: 32.2773 - acc: 0.5750\n",
      "Epoch 97/100\n",
      "80/80 [==============================] - 2s 21ms/step - loss: 33.3066 - acc: 0.5875\n",
      "Epoch 98/100\n",
      "80/80 [==============================] - 1s 18ms/step - loss: 33.0235 - acc: 0.5875\n",
      "Epoch 99/100\n",
      "80/80 [==============================] - 2s 19ms/step - loss: 31.1647 - acc: 0.5875\n",
      "Epoch 100/100\n",
      "80/80 [==============================] - 1s 19ms/step - loss: 32.3785 - acc: 0.5875\n"
     ]
    },
    {
     "data": {
      "text/plain": [
       "<keras.callbacks.History at 0x258a5f2bda0>"
      ]
     },
     "execution_count": 147,
     "metadata": {},
     "output_type": "execute_result"
    }
   ],
   "source": [
    "model.add(SimpleRNN(1000,input_shape=(look_back,12)))\n",
    "model.add(Dense(12))\n",
    "model.add(Dropout(0.2,input_shape=(look_back,)))\n",
    "model.add(Dense(1000))\n",
    "model.add(Dense(12))\n",
    "sgd = optimizers.rmsprop(lr=0.005)\n",
    "model.compile(loss='mean_absolute_error',optimizer='sgd',metrics=['accuracy'])\n",
    "model.fit(xtrain,ytrain,epochs=100,batch_size=4)"
   ]
  },
  {
   "cell_type": "code",
   "execution_count": 148,
   "metadata": {
    "collapsed": true
   },
   "outputs": [],
   "source": [
    "ypred=model.predict(xtest)"
   ]
  },
  {
   "cell_type": "code",
   "execution_count": null,
   "metadata": {
    "collapsed": true
   },
   "outputs": [],
   "source": []
  },
  {
   "cell_type": "code",
   "execution_count": 153,
   "metadata": {},
   "outputs": [
    {
     "name": "stdout",
     "output_type": "stream",
     "text": [
      "\r",
      "2/2 [==============================] - 0s 13ms/step\n"
     ]
    },
    {
     "data": {
      "text/plain": [
       "[24.25465202331543, 0.5]"
      ]
     },
     "execution_count": 153,
     "metadata": {},
     "output_type": "execute_result"
    }
   ],
   "source": [
    "model.evaluate(xtest[:2],ytest)"
   ]
  },
  {
   "cell_type": "code",
   "execution_count": 154,
   "metadata": {},
   "outputs": [
    {
     "data": {
      "text/plain": [
       "10.767124"
      ]
     },
     "execution_count": 154,
     "metadata": {},
     "output_type": "execute_result"
    }
   ],
   "source": [
    "ypred[0][1]"
   ]
  },
  {
   "cell_type": "code",
   "execution_count": 155,
   "metadata": {
    "collapsed": true
   },
   "outputs": [],
   "source": [
    "# # saving model to json file:\n",
    "# model_json = model.to_json()\n",
    "# with open(\"pratapgarhmodelrainfall.json\", \"w\") as json_file:\n",
    "#     json_file.write(model_json)\n",
    "# # saving weights:\n",
    "# model.save_weights(\"pratapgarhrainfall.h5\")\n",
    "# print(\"Done\")"
   ]
  },
  {
   "cell_type": "code",
   "execution_count": 156,
   "metadata": {
    "collapsed": true
   },
   "outputs": [],
   "source": [
    "# # loading model and weights:\n",
    "# json_file = open('modelrainfall.json', 'r')\n",
    "# loaded_model_json = json_file.read()\n",
    "# json_file.close()\n",
    "# loaded_model = model_from_json(loaded_model_json)\n",
    "# # loading wt:\n",
    "# loaded_model.load_weights(\"lucknowrainfall.h5\")\n",
    "# print(\"loaded successfully\")"
   ]
  },
  {
   "cell_type": "code",
   "execution_count": 157,
   "metadata": {},
   "outputs": [
    {
     "data": {
      "text/plain": [
       "(3, 10, 12)"
      ]
     },
     "execution_count": 157,
     "metadata": {},
     "output_type": "execute_result"
    }
   ],
   "source": [
    "xtest.shape"
   ]
  },
  {
   "cell_type": "code",
   "execution_count": 158,
   "metadata": {},
   "outputs": [
    {
     "name": "stdout",
     "output_type": "stream",
     "text": [
      "\r",
      "2/2 [==============================] - 0s 12ms/step\n"
     ]
    },
    {
     "data": {
      "text/plain": [
       "[24.25465202331543, 0.5]"
      ]
     },
     "execution_count": 158,
     "metadata": {},
     "output_type": "execute_result"
    }
   ],
   "source": [
    "model.evaluate(xtest[:2],ytest)"
   ]
  },
  {
   "cell_type": "code",
   "execution_count": null,
   "metadata": {
    "collapsed": true
   },
   "outputs": [],
   "source": []
  },
  {
   "cell_type": "code",
   "execution_count": null,
   "metadata": {
    "collapsed": true
   },
   "outputs": [],
   "source": []
  },
  {
   "cell_type": "code",
   "execution_count": 159,
   "metadata": {
    "collapsed": true
   },
   "outputs": [],
   "source": [
    "for i in range(ypred.shape[0]):\n",
    "    for j in range(ypred.shape[1]):\n",
    "        if(ypred[i][j]<0):\n",
    "            ypred[i][j]=0"
   ]
  },
  {
   "cell_type": "code",
   "execution_count": 160,
   "metadata": {},
   "outputs": [
    {
     "data": {
      "text/plain": [
       "(array([[3.987, 2.66, 5.215, 7.774, 11.248, 97.27799999999999, 186.197,\n",
       "         168.035, 86.39, 60.728, 3.1839999999999997, 0.631],\n",
       "        [20.585, 15.14, 4.216, 1.642, 0.787, 27.354, 98.29, 227.646,\n",
       "         197.192, 72.494, 4.789, 4.738]], dtype=object),\n",
       " array([[ 14.700002  ,  10.767124  ,   5.0411935 ,   1.137018  ,\n",
       "           3.9801457 ,  63.499428  , 217.64919   , 251.88919   ,\n",
       "         129.60834   ,  24.276716  ,   0.9602755 ,   2.809264  ],\n",
       "        [ 14.698712  ,  10.766107  ,   5.040847  ,   1.1367954 ,\n",
       "           3.9797552 ,  63.49375   , 217.63017   , 251.86726   ,\n",
       "         129.59688   ,  24.274544  ,   0.96018934,   2.809172  ],\n",
       "        [ 14.432809  ,  10.555982  ,   4.955791  ,   1.1516786 ,\n",
       "           3.8923154 ,  62.43058   , 213.98218   , 247.84239   ,\n",
       "         127.75124   ,  23.903046  ,   0.94164765,   2.7570517 ]],\n",
       "       dtype=float32))"
      ]
     },
     "execution_count": 160,
     "metadata": {},
     "output_type": "execute_result"
    }
   ],
   "source": [
    "ytest,ypred"
   ]
  },
  {
   "cell_type": "code",
   "execution_count": 161,
   "metadata": {},
   "outputs": [
    {
     "data": {
      "text/plain": [
       "(2, 12)"
      ]
     },
     "execution_count": 161,
     "metadata": {},
     "output_type": "execute_result"
    }
   ],
   "source": [
    "ytest.shape"
   ]
  },
  {
   "cell_type": "code",
   "execution_count": 162,
   "metadata": {
    "collapsed": true
   },
   "outputs": [],
   "source": [
    "import matplotlib.pyplot as plt"
   ]
  },
  {
   "cell_type": "code",
   "execution_count": 163,
   "metadata": {
    "collapsed": true
   },
   "outputs": [],
   "source": [
    "y_pred_flatten=ypred.ravel()\n"
   ]
  },
  {
   "cell_type": "code",
   "execution_count": 164,
   "metadata": {
    "collapsed": true
   },
   "outputs": [],
   "source": [
    "y_test_flatten=ytest"
   ]
  },
  {
   "cell_type": "code",
   "execution_count": 165,
   "metadata": {
    "collapsed": true
   },
   "outputs": [],
   "source": [
    "ypred1=np.vstack((y_test_flatten,ypred[2]))"
   ]
  },
  {
   "cell_type": "code",
   "execution_count": 166,
   "metadata": {
    "scrolled": false
   },
   "outputs": [
    {
     "data": {
      "text/plain": [
       "(array([[ 14.700002  ,  10.767124  ,   5.0411935 ,   1.137018  ,\n",
       "           3.9801457 ,  63.499428  , 217.64919   , 251.88919   ,\n",
       "         129.60834   ,  24.276716  ,   0.9602755 ,   2.809264  ],\n",
       "        [ 14.698712  ,  10.766107  ,   5.040847  ,   1.1367954 ,\n",
       "           3.9797552 ,  63.49375   , 217.63017   , 251.86726   ,\n",
       "         129.59688   ,  24.274544  ,   0.96018934,   2.809172  ],\n",
       "        [ 14.432809  ,  10.555982  ,   4.955791  ,   1.1516786 ,\n",
       "           3.8923154 ,  62.43058   , 213.98218   , 247.84239   ,\n",
       "         127.75124   ,  23.903046  ,   0.94164765,   2.7570517 ]],\n",
       "       dtype=float32),\n",
       " array([[3.987, 2.66, 5.215, 7.774, 11.248, 97.27799999999999, 186.197,\n",
       "         168.035, 86.39, 60.728, 3.1839999999999997, 0.631],\n",
       "        [20.585, 15.14, 4.216, 1.642, 0.787, 27.354, 98.29, 227.646,\n",
       "         197.192, 72.494, 4.789, 4.738],\n",
       "        [14.432808876037598, 10.555981636047363, 4.955790996551514,\n",
       "         1.1516785621643066, 3.89231538772583, 62.430580139160156,\n",
       "         213.982177734375, 247.84239196777344, 127.7512435913086,\n",
       "         23.903045654296875, 0.9416476488113403, 2.757051706314087]],\n",
       "       dtype=object))"
      ]
     },
     "execution_count": 166,
     "metadata": {},
     "output_type": "execute_result"
    }
   ],
   "source": [
    "ypred,ypred1"
   ]
  },
  {
   "cell_type": "code",
   "execution_count": null,
   "metadata": {
    "collapsed": true
   },
   "outputs": [],
   "source": []
  },
  {
   "cell_type": "code",
   "execution_count": 167,
   "metadata": {
    "scrolled": true
   },
   "outputs": [
    {
     "data": {
      "text/plain": [
       "Text(0,0.5,'Rainfall  (in mm)')"
      ]
     },
     "execution_count": 167,
     "metadata": {},
     "output_type": "execute_result"
    },
    {
     "data": {
      "image/png": "[encoded data removed]",
      "text/plain": [
       "<Figure size 432x288 with 1 Axes>"
      ]
     },
     "metadata": {},
     "output_type": "display_data"
    }
   ],
   "source": [
    "plt.plot(ypred1.ravel())\n",
    "\n",
    "plt.plot(ytest.ravel())\n",
    "plt.xlabel(\"Months(in numeric)\")\n",
    "plt.ylabel(\"Rainfall  (in mm)\")"
   ]
  },
  {
   "cell_type": "code",
   "execution_count": 168,
   "metadata": {},
   "outputs": [
    {
     "data": {
      "text/plain": [
       "[<matplotlib.lines.Line2D at 0x258a23002e8>]"
      ]
     },
     "execution_count": 168,
     "metadata": {},
     "output_type": "execute_result"
    },
    {
     "data": {
      "image/png": "[encoded data removed]",
      "text/plain": [
       "<Figure size 432x288 with 1 Axes>"
      ]
     },
     "metadata": {},
     "output_type": "display_data"
    }
   ],
   "source": [
    "plt.plot(ypred.ravel())"
   ]
  },
  {
   "cell_type": "code",
   "execution_count": 169,
   "metadata": {},
   "outputs": [
    {
     "data": {
      "text/plain": [
       "array([[3.987, 2.66, 5.215, 7.774, 11.248, 97.27799999999999, 186.197,\n",
       "        168.035, 86.39, 60.728, 3.1839999999999997, 0.631],\n",
       "       [20.585, 15.14, 4.216, 1.642, 0.787, 27.354, 98.29, 227.646,\n",
       "        197.192, 72.494, 4.789, 4.738]], dtype=object)"
      ]
     },
     "execution_count": 169,
     "metadata": {},
     "output_type": "execute_result"
    }
   ],
   "source": [
    "ytest"
   ]
  },
  {
   "cell_type": "code",
   "execution_count": 170,
   "metadata": {
    "collapsed": true
   },
   "outputs": [],
   "source": [
    "prediction=ypred[2]"
   ]
  },
  {
   "cell_type": "code",
   "execution_count": 171,
   "metadata": {},
   "outputs": [
    {
     "data": {
      "text/plain": [
       "array([ 14.432809  ,  10.555982  ,   4.955791  ,   1.1516786 ,\n",
       "         3.8923154 ,  62.43058   , 213.98218   , 247.84239   ,\n",
       "       127.75124   ,  23.903046  ,   0.94164765,   2.7570517 ],\n",
       "      dtype=float32)"
      ]
     },
     "execution_count": 171,
     "metadata": {},
     "output_type": "execute_result"
    }
   ],
   "source": [
    "prediction"
   ]
  },
  {
   "cell_type": "code",
   "execution_count": 172,
   "metadata": {},
   "outputs": [
    {
     "data": {
      "text/plain": [
       "[<matplotlib.lines.Line2D at 0x258a61d97f0>]"
      ]
     },
     "execution_count": 172,
     "metadata": {},
     "output_type": "execute_result"
    },
    {
     "data": {
      "image/png": "[encoded data removed]",
      "text/plain": [
       "<Figure size 432x288 with 1 Axes>"
      ]
     },
     "metadata": {},
     "output_type": "display_data"
    }
   ],
   "source": [
    "plt.plot(prediction)"
   ]
  },
  {
   "cell_type": "code",
   "execution_count": 173,
   "metadata": {
    "collapsed": true
   },
   "outputs": [],
   "source": [
    "sum1=abs(ypred[0]-ytest[0])\n",
    "sum2=abs(ypred[1]-ytest[1])"
   ]
  },
  {
   "cell_type": "code",
   "execution_count": 174,
   "metadata": {},
   "outputs": [
    {
     "data": {
      "text/plain": [
       "array([3.987, 2.66, 5.215, 7.774, 11.248, 97.27799999999999, 186.197,\n",
       "       168.035, 86.39, 60.728, 3.1839999999999997, 0.631], dtype=object)"
      ]
     },
     "execution_count": 174,
     "metadata": {},
     "output_type": "execute_result"
    }
   ],
   "source": [
    "ytest[0]"
   ]
  },
  {
   "cell_type": "code",
   "execution_count": 175,
   "metadata": {},
   "outputs": [
    {
     "data": {
      "text/plain": [
       "(266.05532645177846, 316.05639260959623)"
      ]
     },
     "execution_count": 175,
     "metadata": {},
     "output_type": "execute_result"
    }
   ],
   "source": [
    "sum1.sum(),sum2.sum()"
   ]
  },
  {
   "cell_type": "code",
   "execution_count": 176,
   "metadata": {},
   "outputs": [
    {
     "data": {
      "text/plain": [
       "array([ 14.432809  ,  10.555982  ,   4.955791  ,   1.1516786 ,\n",
       "         3.8923154 ,  62.43058   , 213.98218   , 247.84239   ,\n",
       "       127.75124   ,  23.903046  ,   0.94164765,   2.7570517 ],\n",
       "      dtype=float32)"
      ]
     },
     "execution_count": 176,
     "metadata": {},
     "output_type": "execute_result"
    }
   ],
   "source": [
    "ypred[2]"
   ]
  },
  {
   "cell_type": "code",
   "execution_count": 177,
   "metadata": {},
   "outputs": [
    {
     "data": {
      "text/plain": [
       "Text(0,0.5,'Rainfall (in mm)')"
      ]
     },
     "execution_count": 177,
     "metadata": {},
     "output_type": "execute_result"
    },
    {
     "data": {
      "image/png": "[encoded data removed]",
      "text/plain": [
       "<Figure size 432x288 with 1 Axes>"
      ]
     },
     "metadata": {},
     "output_type": "display_data"
    }
   ],
   "source": [
    "x=['Jan','Feb','Mar','Apr','May','Jun','Jul','Aug','Sep','Oct','Nov','Dec']\n",
    "plt.bar(x,ypred[2])\n",
    "plt.xlabel(\"Month\")\n",
    "plt.ylabel(\"Rainfall (in mm)\")"
   ]
  },
  {
   "cell_type": "code",
   "execution_count": null,
   "metadata": {
    "collapsed": true
   },
   "outputs": [],
   "source": []
  },
  {
   "cell_type": "code",
   "execution_count": 178,
   "metadata": {
    "collapsed": true
   },
   "outputs": [],
   "source": [
    "from keras.layers import SimpleRNN,Dense,LSTM,Dropout,Activation,BatchNormalization"
   ]
  },
  {
   "cell_type": "code",
   "execution_count": 179,
   "metadata": {
    "collapsed": true
   },
   "outputs": [],
   "source": [
    "from keras.models import Sequential"
   ]
  },
  {
   "cell_type": "code",
   "execution_count": 180,
   "metadata": {
    "collapsed": true
   },
   "outputs": [],
   "source": [
    "from keras import optimizers"
   ]
  },
  {
   "cell_type": "code",
   "execution_count": 181,
   "metadata": {
    "collapsed": true
   },
   "outputs": [],
   "source": [
    "model=Sequential()\n",
    "look_back=10"
   ]
  },
  {
   "cell_type": "code",
   "execution_count": 182,
   "metadata": {
    "collapsed": true
   },
   "outputs": [],
   "source": [
    "districtname='lucknow'\n",
    "xtrain1,ytrain1,xtest1,ytest1=predictdistrict(districtname)"
   ]
  },
  {
   "cell_type": "code",
   "execution_count": null,
   "metadata": {
    "collapsed": true
   },
   "outputs": [],
   "source": []
  },
  {
   "cell_type": "code",
   "execution_count": 183,
   "metadata": {
    "scrolled": true
   },
   "outputs": [
    {
     "name": "stdout",
     "output_type": "stream",
     "text": [
      "Epoch 1/40\n",
      "80/80 [==============================] - 9s 114ms/step - loss: 75.6631 - acc: 0.1250\n",
      "Epoch 2/40\n",
      "80/80 [==============================] - 6s 79ms/step - loss: 57.8390 - acc: 0.2625\n",
      "Epoch 3/40\n",
      "80/80 [==============================] - 6s 76ms/step - loss: 33.7839 - acc: 0.5000\n",
      "Epoch 4/40\n",
      "80/80 [==============================] - 7s 84ms/step - loss: 35.0441 - acc: 0.5250\n",
      "Epoch 5/40\n",
      "80/80 [==============================] - 7s 81ms/step - loss: 31.4964 - acc: 0.5875\n",
      "Epoch 6/40\n",
      "80/80 [==============================] - 6s 79ms/step - loss: 32.3333 - acc: 0.5875\n",
      "Epoch 7/40\n",
      "80/80 [==============================] - 6s 75ms/step - loss: 32.4468 - acc: 0.5500\n",
      "Epoch 8/40\n",
      "80/80 [==============================] - 7s 86ms/step - loss: 31.2782 - acc: 0.5875\n",
      "Epoch 9/40\n",
      "80/80 [==============================] - 6s 78ms/step - loss: 32.5154 - acc: 0.5875\n",
      "Epoch 10/40\n",
      "80/80 [==============================] - 6s 78ms/step - loss: 31.2220 - acc: 0.5875\n",
      "Epoch 11/40\n",
      "80/80 [==============================] - 6s 79ms/step - loss: 31.6809 - acc: 0.5875\n",
      "Epoch 12/40\n",
      "80/80 [==============================] - 6s 78ms/step - loss: 31.3974 - acc: 0.5875\n",
      "Epoch 13/40\n",
      "80/80 [==============================] - 7s 82ms/step - loss: 32.0694 - acc: 0.5875\n",
      "Epoch 14/40\n",
      "80/80 [==============================] - 6s 76ms/step - loss: 32.0325 - acc: 0.5875\n",
      "Epoch 15/40\n",
      "80/80 [==============================] - 6s 73ms/step - loss: 32.7658 - acc: 0.5875\n",
      "Epoch 16/40\n",
      "80/80 [==============================] - 6s 72ms/step - loss: 31.3969 - acc: 0.5875\n",
      "Epoch 17/40\n",
      "80/80 [==============================] - 6s 73ms/step - loss: 31.2556 - acc: 0.5875\n",
      "Epoch 18/40\n",
      "80/80 [==============================] - 6s 76ms/step - loss: 31.8806 - acc: 0.5875\n",
      "Epoch 19/40\n",
      "80/80 [==============================] - 6s 76ms/step - loss: 30.6920 - acc: 0.5500\n",
      "Epoch 20/40\n",
      "80/80 [==============================] - 6s 72ms/step - loss: 30.4183 - acc: 0.5750\n",
      "Epoch 21/40\n",
      "80/80 [==============================] - 6s 76ms/step - loss: 31.8096 - acc: 0.4750\n",
      "Epoch 22/40\n",
      "80/80 [==============================] - 6s 72ms/step - loss: 30.3304 - acc: 0.5875\n",
      "Epoch 23/40\n",
      "80/80 [==============================] - 6s 74ms/step - loss: 31.0414 - acc: 0.5875\n",
      "Epoch 24/40\n",
      "80/80 [==============================] - 6s 74ms/step - loss: 31.2057 - acc: 0.5875\n",
      "Epoch 25/40\n",
      "80/80 [==============================] - 6s 72ms/step - loss: 31.7971 - acc: 0.5750\n",
      "Epoch 26/40\n",
      "80/80 [==============================] - 6s 71ms/step - loss: 33.0580 - acc: 0.5875\n",
      "Epoch 27/40\n",
      "80/80 [==============================] - 6s 72ms/step - loss: 31.0134 - acc: 0.5875\n",
      "Epoch 28/40\n",
      "80/80 [==============================] - 6s 72ms/step - loss: 30.9605 - acc: 0.5875\n",
      "Epoch 29/40\n",
      "80/80 [==============================] - 6s 72ms/step - loss: 33.3508 - acc: 0.5750\n",
      "Epoch 30/40\n",
      "80/80 [==============================] - 6s 72ms/step - loss: 30.9494 - acc: 0.5875\n",
      "Epoch 31/40\n",
      "80/80 [==============================] - 6s 73ms/step - loss: 30.6953 - acc: 0.5750\n",
      "Epoch 32/40\n",
      "80/80 [==============================] - 7s 86ms/step - loss: 30.7325 - acc: 0.5875\n",
      "Epoch 33/40\n",
      "80/80 [==============================] - 6s 77ms/step - loss: 30.7920 - acc: 0.5875\n",
      "Epoch 34/40\n",
      "80/80 [==============================] - 8s 104ms/step - loss: 31.1342 - acc: 0.5875\n",
      "Epoch 35/40\n",
      "80/80 [==============================] - 7s 91ms/step - loss: 30.7507 - acc: 0.5875\n",
      "Epoch 36/40\n",
      "80/80 [==============================] - 6s 79ms/step - loss: 30.9005 - acc: 0.5750\n",
      "Epoch 37/40\n",
      "80/80 [==============================] - 6s 74ms/step - loss: 29.9184 - acc: 0.5875\n",
      "Epoch 38/40\n",
      "80/80 [==============================] - 7s 83ms/step - loss: 31.4200 - acc: 0.5750\n",
      "Epoch 39/40\n",
      "80/80 [==============================] - 6s 78ms/step - loss: 29.9963 - acc: 0.4375\n",
      "Epoch 40/40\n",
      "80/80 [==============================] - 6s 77ms/step - loss: 31.0712 - acc: 0.4875\n"
     ]
    },
    {
     "data": {
      "text/plain": [
       "<keras.callbacks.History at 0x258a46a0780>"
      ]
     },
     "execution_count": 183,
     "metadata": {},
     "output_type": "execute_result"
    }
   ],
   "source": [
    "model.add(LSTM(1000,input_shape=(look_back,12)))\n",
    "model.add(Dense(12))\n",
    "model.add(Dropout(0.2,input_shape=(look_back,)))\n",
    "model.add(Dense(1000))\n",
    "model.add(Dense(12))\n",
    "sgd = optimizers.rmsprop(lr=0.005)\n",
    "model.compile(loss='mean_absolute_error',optimizer='sgd',metrics=['accuracy'])\n",
    "model.fit(xtrain1,ytrain1,epochs=40,batch_size=4)"
   ]
  },
  {
   "cell_type": "code",
   "execution_count": 184,
   "metadata": {
    "collapsed": true
   },
   "outputs": [],
   "source": [
    "ypredlstm=model.predict(xtest1)"
   ]
  },
  {
   "cell_type": "code",
   "execution_count": 185,
   "metadata": {},
   "outputs": [
    {
     "name": "stdout",
     "output_type": "stream",
     "text": [
      "\r",
      "2/2 [==============================] - 0s 153ms/step\n"
     ]
    },
    {
     "data": {
      "text/plain": [
       "[34.34727478027344, 0.5]"
      ]
     },
     "execution_count": 185,
     "metadata": {},
     "output_type": "execute_result"
    }
   ],
   "source": [
    "model.evaluate(xtest1[:2],ytest1)"
   ]
  },
  {
   "cell_type": "code",
   "execution_count": 186,
   "metadata": {
    "collapsed": true
   },
   "outputs": [],
   "source": [
    "for i in range(ypredlstm.shape[0]):\n",
    "    for j in range(ypredlstm.shape[1]):\n",
    "        if(ypredlstm[i][j]<0):\n",
    "            ypredlstm[i][j]=0"
   ]
  },
  {
   "cell_type": "code",
   "execution_count": 187,
   "metadata": {
    "collapsed": true
   },
   "outputs": [],
   "source": [
    "import matplotlib.pyplot as plt"
   ]
  },
  {
   "cell_type": "code",
   "execution_count": 188,
   "metadata": {
    "collapsed": true
   },
   "outputs": [],
   "source": [
    "y_predlstm_flatten=ypredlstm.ravel()\n",
    "\n"
   ]
  },
  {
   "cell_type": "code",
   "execution_count": 189,
   "metadata": {
    "collapsed": true
   },
   "outputs": [],
   "source": [
    "y_test1_flatten=ytest1"
   ]
  },
  {
   "cell_type": "code",
   "execution_count": 190,
   "metadata": {
    "collapsed": true
   },
   "outputs": [],
   "source": [
    "ypredlstm1=np.vstack((y_test1_flatten,ypredlstm[2]))"
   ]
  },
  {
   "cell_type": "code",
   "execution_count": 191,
   "metadata": {},
   "outputs": [
    {
     "data": {
      "text/plain": [
       "Text(0,0.5,'Rainfall  (in mm)')"
      ]
     },
     "execution_count": 191,
     "metadata": {},
     "output_type": "execute_result"
    },
    {
     "data": {
      "image/png": "[encoded data removed]",
      "text/plain": [
       "<Figure size 432x288 with 1 Axes>"
      ]
     },
     "metadata": {},
     "output_type": "display_data"
    }
   ],
   "source": [
    "plt.plot(ypredlstm1.ravel())\n",
    "\n",
    "plt.plot(ytest1.ravel())\n",
    "plt.xlabel(\"Months(in numeric)\")\n",
    "plt.ylabel(\"Rainfall  (in mm)\")"
   ]
  },
  {
   "cell_type": "code",
   "execution_count": 192,
   "metadata": {},
   "outputs": [
    {
     "data": {
      "text/plain": [
       "Text(0,0.5,'Rainfall (in mm)')"
      ]
     },
     "execution_count": 192,
     "metadata": {},
     "output_type": "execute_result"
    },
    {
     "data": {
      "image/png": "[encoded data removed]",
      "text/plain": [
       "<Figure size 432x288 with 1 Axes>"
      ]
     },
     "metadata": {},
     "output_type": "display_data"
    }
   ],
   "source": [
    "x=['Jan','Feb','Mar','Apr','May','Jun','Jul','Aug','Sep','Oct','Nov','Dec']\n",
    "plt.bar(x,ypredlstm[2])\n",
    "plt.xlabel(\"Month\")\n",
    "plt.ylabel(\"Rainfall (in mm)\")"
   ]
  },
  {
   "cell_type": "code",
   "execution_count": 193,
   "metadata": {
    "collapsed": true
   },
   "outputs": [],
   "source": [
    "from sklearn.metrics import mean_absolute_error"
   ]
  },
  {
   "cell_type": "code",
   "execution_count": 195,
   "metadata": {
    "collapsed": true
   },
   "outputs": [],
   "source": [
    "rnn = mean_absolute_error(ypred[0], ytest[0])\n",
    "lstm = mean_absolute_error(ypredlstm[0], ytest1[0])"
   ]
  },
  {
   "cell_type": "code",
   "execution_count": 203,
   "metadata": {},
   "outputs": [
    {
     "data": {
      "text/plain": [
       "Text(0,0.5,'Rainfall  (in mm)')"
      ]
     },
     "execution_count": 203,
     "metadata": {},
     "output_type": "execute_result"
    },
    {
     "data": {
      "image/png": "[encoded data removed]",
      "text/plain": [
       "<Figure size 432x288 with 1 Axes>"
      ]
     },
     "metadata": {},
     "output_type": "display_data"
    }
   ],
   "source": [
    "plt.plot(ypredlstm[1], label=\"LSTM\")\n",
    "plt.plot(ypred[1], label='SimpleRNN')\n",
    "plt.plot(ytest[1], label='Actual')\n",
    "plt.xlabel(\"Months(in numeric)\")\n",
    "plt.legend()\n",
    "plt.ylabel(\"Rainfall  (in mm)\")"
   ]
  },
  {
   "cell_type": "code",
   "execution_count": 201,
   "metadata": {},
   "outputs": [
    {
     "data": {
      "text/plain": [
       "(22.171277204314872, 34.14007374318441)"
      ]
     },
     "execution_count": 201,
     "metadata": {},
     "output_type": "execute_result"
    }
   ],
   "source": [
    "rnn, lstm"
   ]
  },
  {
   "cell_type": "code",
   "execution_count": null,
   "metadata": {
    "collapsed": true
   },
   "outputs": [],
   "source": []
  }
 ],
 "metadata": {
  "kernelspec": {
   "display_name": "Python 3",
   "language": "python",
   "name": "python3"
  },
  "language_info": {
   "codemirror_mode": {
    "name": "ipython",
    "version": 3
   },
   "file_extension": ".py",
   "mimetype": "text/x-python",
   "name": "python",
   "nbconvert_exporter": "python",
   "pygments_lexer": "ipython3",
   "version": "3.5.2"
  }
 },
 "nbformat": 4,
 "nbformat_minor": 2
}
